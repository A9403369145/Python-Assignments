{
  "nbformat": 4,
  "nbformat_minor": 0,
  "metadata": {
    "colab": {
      "provenance": []
    },
    "kernelspec": {
      "name": "python3",
      "display_name": "Python 3"
    },
    "language_info": {
      "name": "python"
    },
    "gpuClass": "standard"
  },
  "cells": [
    {
      "cell_type": "markdown",
      "source": [
        "# Python_Assignment_10\n",
        "## FSDS 2.0\n",
        " Submitted by Akshay Gaidhani"
      ],
      "metadata": {
        "id": "VaF75Qj5i4HM"
      }
    },
    {
      "cell_type": "markdown",
      "source": [
        "1. How do you distinguish between shutil.copy() and shutil.copytree()?\n",
        "* shutil.copy(source, destination) - will copy a single file\n",
        "* shutil.copytree(source, destination) - will copy an entire folder and every folder and file contained in it\n"
      ],
      "metadata": {
        "id": "Ck8Hl4CSjGKY"
      }
    },
    {
      "cell_type": "code",
      "source": [
        "import shutil\n",
        "import os\n",
        "\n",
        "os.getcwd()"
      ],
      "metadata": {
        "colab": {
          "base_uri": "https://localhost:8080/",
          "height": 35
        },
        "id": "wn4mtryJes_R",
        "outputId": "adf385a2-5bce-4e6f-a84a-91196c888ca6"
      },
      "execution_count": null,
      "outputs": [
        {
          "output_type": "execute_result",
          "data": {
            "text/plain": [
              "'/content'"
            ],
            "application/vnd.google.colaboratory.intrinsic+json": {
              "type": "string"
            }
          },
          "metadata": {},
          "execution_count": 32
        }
      ]
    },
    {
      "cell_type": "markdown",
      "source": [
        "2. What function is used to rename files??\n",
        "\n",
        "* os.rename() method in Python is used to rename a file or directory"
      ],
      "metadata": {
        "id": "-zvggIYvjGRR"
      }
    },
    {
      "cell_type": "markdown",
      "source": [
        "3. What is the difference between the delete functions in the send2trash and shutil modules?\n",
        "\n",
        "* send2trash functions will move a file or folder to the recycle bin  \n",
        "* shutil functions will permanently delete files and folders."
      ],
      "metadata": {
        "id": "-sb2rM5kjGZf"
      }
    },
    {
      "cell_type": "markdown",
      "source": [
        "4. ZipFile objects have a close() method just like File objects’ close() method. What ZipFile method is equivalent to File objects’ open() method?\n",
        "\n",
        "* The zipfile.ZipFile() function is equivalent to the open() function; the first argument is the filename, and the second argument is the mode to open the ZIP file in (r,w,a).\n"
      ],
      "metadata": {
        "id": "CDpi-JWojGgQ"
      }
    },
    {
      "cell_type": "code",
      "source": [
        "! mkdir My_Project"
      ],
      "metadata": {
        "id": "ZyHEgoLhuuiU"
      },
      "execution_count": 1,
      "outputs": []
    },
    {
      "cell_type": "code",
      "source": [
        "import os\n",
        "os.chdir(\"My_Project\")"
      ],
      "metadata": {
        "id": "jSZqorCQw9cw"
      },
      "execution_count": 2,
      "outputs": []
    },
    {
      "cell_type": "code",
      "source": [
        "os.getcwd()"
      ],
      "metadata": {
        "colab": {
          "base_uri": "https://localhost:8080/",
          "height": 35
        },
        "id": "yxQ6BhSCxc0G",
        "outputId": "851730c9-92d1-4d2b-b3fe-f6c2feb2a404"
      },
      "execution_count": 3,
      "outputs": [
        {
          "output_type": "execute_result",
          "data": {
            "text/plain": [
              "'/content/My_Project'"
            ],
            "application/vnd.google.colaboratory.intrinsic+json": {
              "type": "string"
            }
          },
          "metadata": {},
          "execution_count": 3
        }
      ]
    },
    {
      "cell_type": "code",
      "source": [
        "os.getcwd()"
      ],
      "metadata": {
        "colab": {
          "base_uri": "https://localhost:8080/",
          "height": 35
        },
        "id": "iaRVsZL4xl51",
        "outputId": "d1fb9ce5-571c-4804-a0d1-a84c83fc760e"
      },
      "execution_count": 4,
      "outputs": [
        {
          "output_type": "execute_result",
          "data": {
            "text/plain": [
              "'/content/My_Project'"
            ],
            "application/vnd.google.colaboratory.intrinsic+json": {
              "type": "string"
            }
          },
          "metadata": {},
          "execution_count": 4
        }
      ]
    },
    {
      "cell_type": "markdown",
      "source": [
        "5. Create a programme that searches a folder tree for files with a certain file extension (such as .pdf or .jpg). Copy these files from whatever location they are in to a new folder."
      ],
      "metadata": {
        "id": "zWgbX05mKJAF"
      }
    },
    {
      "cell_type": "code",
      "source": [
        "import os, shutil\n",
        "\n",
        "def selectiveCopy(folder, extensions, destFolder):\n",
        "\tfolder = os.path.abspath(folder)\n",
        "\tdestFolder = os.path.abspath(destFolder)\n",
        "\tprint('Looking in', folder, 'for files with extensions of', ', '.join(extensions))\n",
        "\tfor foldername, subfolders, filenames in os.walk(folder):\n",
        "\t\tfor filename in filenames:\n",
        "\t\t\tname, extension = os.path.splitext(filename)\n",
        "\t\t\tif extension in extensions:\n",
        "\t\t\t\tfileAbsPath = foldername + os.path.sep + filename\n",
        "\t\t\t\tprint('Coping', fileAbsPath, 'to', destFolder)\n",
        "\t\t\t\tshutil.copy(fileAbsPath, destFolder)\n",
        "\n",
        "extensions = ['.pdf', '.PNG']\n",
        "folder = 'Source_Folder'\n",
        "destFolder = 'Destination_Folder'\n",
        "selectiveCopy(folder, extensions, destFolder)"
      ],
      "metadata": {
        "id": "KhMrHVslzOs6",
        "colab": {
          "base_uri": "https://localhost:8080/"
        },
        "outputId": "cd470649-98d1-41c1-f8cf-5e4bf6ab6e71"
      },
      "execution_count": 8,
      "outputs": [
        {
          "output_type": "stream",
          "name": "stdout",
          "text": [
            "Looking in /content/My_Project/Source_Folder for files with extensions of .pdf, .PNG\n",
            "Coping /content/My_Project/Source_Folder/Akshay_Gaidhani.PNG to /content/My_Project/Destination_Folder\n",
            "Coping /content/My_Project/Source_Folder/Assignment_Answers.pdf to /content/My_Project/Destination_Folder\n"
          ]
        }
      ]
    },
    {
      "cell_type": "markdown",
      "source": [
        "* Thank You \n",
        "* Happy Learning "
      ],
      "metadata": {
        "id": "UbcwoIBDKM_c"
      }
    }
  ]
}