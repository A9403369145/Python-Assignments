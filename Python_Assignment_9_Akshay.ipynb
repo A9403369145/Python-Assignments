{
  "nbformat": 4,
  "nbformat_minor": 0,
  "metadata": {
    "colab": {
      "provenance": []
    },
    "kernelspec": {
      "name": "python3",
      "display_name": "Python 3"
    },
    "language_info": {
      "name": "python"
    }
  },
  "cells": [
    {
      "cell_type": "markdown",
      "source": [
        "# Python_Assignment_9\n",
        "## FSDS 2.0\n",
        " Submitted by Akshay Gaidhani"
      ],
      "metadata": {
        "id": "-RjhX3YiIldE"
      }
    },
    {
      "cell_type": "markdown",
      "source": [
        "1. To what does a relative path refer?\n",
        "* the current working directory\n"
      ],
      "metadata": {
        "id": "elRM9U8DXHrt"
      }
    },
    {
      "cell_type": "markdown",
      "source": [
        "2. What does an absolute path start with your operating system?\n",
        "* the root folder, such as / or C:\\"
      ],
      "metadata": {
        "id": "o7C7QESGXHuc"
      }
    },
    {
      "cell_type": "markdown",
      "source": [
        "3. What do the functions os.getcwd() and os.chdir() do?\n",
        "* os.getcwd() - returns the current working directory\n",
        "* os.chdir() - this function changes the current working directory"
      ],
      "metadata": {
        "id": "Xj9FmrbwXHxR"
      }
    },
    {
      "cell_type": "code",
      "source": [
        "import os\n",
        "os.getcwd() #Current Working Directory"
      ],
      "metadata": {
        "colab": {
          "base_uri": "https://localhost:8080/",
          "height": 35
        },
        "id": "FHtuKQllX1Qn",
        "outputId": "23d10f06-f5b0-459f-b228-a8f2685fb92e"
      },
      "execution_count": 2,
      "outputs": [
        {
          "output_type": "execute_result",
          "data": {
            "text/plain": [
              "'/content'"
            ],
            "application/vnd.google.colaboratory.intrinsic+json": {
              "type": "string"
            }
          },
          "metadata": {},
          "execution_count": 2
        }
      ]
    },
    {
      "cell_type": "markdown",
      "source": [
        "4. What are the . and .. folders?\n",
        "* . is a link to the current directory\n",
        "* .. is a link to the parent directory\n"
      ],
      "metadata": {
        "id": "uRDEflhsXH0f"
      }
    },
    {
      "cell_type": "markdown",
      "source": [
        "5. In C:\\bacon\\eggs\\spam.txt, which part is the dir name, and which part is the base name?\n",
        "* C:\\bacon\\eggs is the dir name \n",
        "* spam.txt is the base name"
      ],
      "metadata": {
        "id": "PE5I_XOJXH3Z"
      }
    },
    {
      "cell_type": "markdown",
      "source": [
        "6. What are the three “mode” arguments that can be passed to the open() function?\n",
        "\n",
        "\"r\" - Read - Default value. Opens a file for reading, error if the file does not exist\n",
        "\n",
        "\"a\" - Append - Opens a file for appending, creates the file if it does not exist\n",
        "\n",
        "\"w\" - Write - Opens a file for writing, creates the file if it does not exist\n",
        "\n",
        "\"x\" - Create - Creates the specified file, returns an error if the file exists"
      ],
      "metadata": {
        "id": "fukbEbSXXH6p"
      }
    },
    {
      "cell_type": "markdown",
      "source": [
        "7. What happens if an existing file is opened in write mode?\n",
        "\n",
        "* Write - Opens a file for writing, creates the file if it does not exist\n",
        "* An existing file opened in write mode is erased and completely overwritten. "
      ],
      "metadata": {
        "id": "cwMtcIYMXTCt"
      }
    },
    {
      "cell_type": "markdown",
      "source": [
        "8. How do you tell the difference between read() and readlines()?\n",
        "* read() - By default the read() method returns the whole text \n",
        "* readlines() - a list of strings, where each string is a line from the ﬁle’s contents."
      ],
      "metadata": {
        "id": "xUcPAPXWXTGM"
      }
    },
    {
      "cell_type": "markdown",
      "source": [
        "9. What data structure does a shelf value resemble?\n",
        "* a dictionary value; it has keys and values, along with keys() and values() methods that work similarly to the dictionary methods of the same names."
      ],
      "metadata": {
        "id": "zmqVToOsXTMR"
      }
    },
    {
      "cell_type": "markdown",
      "source": [
        "- Thank You \n",
        "- Happy Learning"
      ],
      "metadata": {
        "id": "0vpmaMPiejaY"
      }
    }
  ]
}