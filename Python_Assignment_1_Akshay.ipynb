{
  "nbformat": 4,
  "nbformat_minor": 0,
  "metadata": {
    "colab": {
      "provenance": [],
      "collapsed_sections": []
    },
    "kernelspec": {
      "name": "python3",
      "display_name": "Python 3"
    },
    "language_info": {
      "name": "python"
    }
  },
  "cells": [
    {
      "cell_type": "markdown",
      "source": [
        "# Python_Assignment_1\n",
        "## FSDS 2.0\n",
        " Submitted by Akshay Gaidhani"
      ],
      "metadata": {
        "id": "nyUAqxqxW28H"
      }
    },
    {
      "cell_type": "markdown",
      "source": [
        "1. In the below elements which of them are values or an expression? eg:- values can be integer or string and expressions will be mathematical operators."
      ],
      "metadata": {
        "id": "C_GKt0kAXleV"
      }
    },
    {
      "cell_type": "code",
      "source": [
        "# * - Asterisk operator - used for Multiplication   \n",
        "# 'hello' - String \n",
        "# -87.8 - Float data type\n",
        "# - - Subtraction operator\n",
        "# / - True division Arithmetic operator\n",
        "# + - Addition Arithmetic operator \n",
        "# 6 - Integer value"
      ],
      "metadata": {
        "id": "QqBHDUf4XmxB"
      },
      "execution_count": 10,
      "outputs": []
    },
    {
      "cell_type": "markdown",
      "source": [
        "2. What is the difference between string and variable?"
      ],
      "metadata": {
        "id": "Ede44aGkcJo3"
      }
    },
    {
      "cell_type": "markdown",
      "source": [
        "Variables are symbols we use to store the information and strings are the date type. String is a type of information you would store in a Variable. A String is usually words, enclosed with \" \""
      ],
      "metadata": {
        "id": "U1J6FA5HdLIe"
      }
    },
    {
      "cell_type": "markdown",
      "source": [
        "3. Describe three different data types."
      ],
      "metadata": {
        "id": "B4y5wvK5dW8d"
      }
    },
    {
      "cell_type": "markdown",
      "source": [
        "\n",
        "\n",
        "###1.   Numeric\n",
        "\n",
        "* Integer - Positive or negative whole numbers (without fraction or decimal) For example – 22\n",
        "* Float - It is a real number with floating point representation. It is specified by a decimal point.For example – 22.5\n",
        "* Complex Number - It is specified as (real part) + (imaginary part) For example – 22+9j\n",
        "\n",
        "###2.   Sequence Type\n",
        "\n",
        "* String - A string is a collection of one or more characters put in a single quote, double-quote or triple quote \" \"\n",
        "* List - It is a ordered collection of data & can contain different types of data. []\n",
        "* Tuples -   The only difference between tuple and list is that tuples are immutable i.e. tuples cannot be modified after it is created. ()\n",
        "\n",
        "###3.   Boolean\n",
        "Data type with one of the two built-in values, True or False.\n",
        "\n",
        "\n",
        "\n",
        "\n"
      ],
      "metadata": {
        "id": "d7F15I1-dcpq"
      }
    },
    {
      "cell_type": "markdown",
      "source": [
        "4. What is an expression made up of? What do all expressions do?"
      ],
      "metadata": {
        "id": "s934_EsUhRKx"
      }
    },
    {
      "cell_type": "markdown",
      "source": [
        "The expression in Python produces some value or result after being interpreted by the Python interpreter. An expression in Python is a combination of operators and operands.\n",
        "For Example : x = x + 50.\n",
        "In this expression, the first 50 is added to the variable x. After the addition is performed, the result is assigned to the variable x.\n",
        "\n",
        "\n",
        "\n",
        "###   Types of Expression in Python\n",
        "\n",
        "*   Constant Expressions\n",
        "*   Arithmetic Expressions (+,-,/,//,*)\n",
        "*   Integral Expressions\n",
        "*   Floating Expressions \n",
        "*   Logical Expressions\n",
        "\n"
      ],
      "metadata": {
        "id": "56P2bHZ_kjy-"
      }
    },
    {
      "cell_type": "markdown",
      "source": [
        "5. This assignment statements, like spam = 10. What is the difference between an expression and a statement?"
      ],
      "metadata": {
        "id": "j0OWc92Tkj6D"
      }
    },
    {
      "cell_type": "markdown",
      "source": [
        "A statement in Python is used for creating variables or for displaying values like spam = 10\tand An expression in Python is evaluated for some results. spam = 10 + x | \n",
        "A statement can be an expression.\tbut An expression is not a statement.\n"
      ],
      "metadata": {
        "id": "mneDaW1MkkM0"
      }
    },
    {
      "cell_type": "markdown",
      "source": [
        "6. After running the following code, what does the variable bacon contain?\n",
        "\n",
        "*  bacon = 22\n",
        "*  bacon + 1\n",
        "\n"
      ],
      "metadata": {
        "id": "kCUjNCh_nEWa"
      }
    },
    {
      "cell_type": "code",
      "source": [
        "bacon = 22\n",
        "bacon + 1\n"
      ],
      "metadata": {
        "colab": {
          "base_uri": "https://localhost:8080/"
        },
        "id": "odYKXyVJk4AH",
        "outputId": "485dcdfd-d27c-4ada-ffe8-5da1c33dc6d4"
      },
      "execution_count": 11,
      "outputs": [
        {
          "output_type": "execute_result",
          "data": {
            "text/plain": [
              "23"
            ]
          },
          "metadata": {},
          "execution_count": 11
        }
      ]
    },
    {
      "cell_type": "markdown",
      "source": [
        "7. What should the values of the following two terms be?\n",
        "*  'spam' + 'spamspam'\n",
        "*  'spam' * 3"
      ],
      "metadata": {
        "id": "MoNj10qankXE"
      }
    },
    {
      "cell_type": "code",
      "source": [
        "a = 'spam' + 'spamspam'\n",
        "b = 'spam' * 3\n",
        "print(a)\n",
        "print(b)"
      ],
      "metadata": {
        "colab": {
          "base_uri": "https://localhost:8080/"
        },
        "id": "wZpg4RENndgU",
        "outputId": "7cd49c8d-e29f-4b48-b91f-f8eb640c55bc"
      },
      "execution_count": 16,
      "outputs": [
        {
          "output_type": "stream",
          "name": "stdout",
          "text": [
            "spamspamspam\n",
            "spamspamspam\n"
          ]
        }
      ]
    },
    {
      "cell_type": "markdown",
      "source": [
        "8. Why is eggs a valid variable name while 100 is invalid?"
      ],
      "metadata": {
        "id": "YUF2nkgOn_IC"
      }
    },
    {
      "cell_type": "markdown",
      "source": [
        "As per the Variable Naming Rules in Python\n",
        "\n",
        "* Variable name should start with **letter**(a-zA-Z) or underscore. \n",
        "* In variable name, no special characters allowed other than underscore (_)\n",
        "* Variable name can have numbers but not at the beginning.\n",
        "* Variable name should not be a Python keyword.Keywords are also called as reserved words.\n",
        "\n",
        "\n",
        "\n",
        "\n"
      ],
      "metadata": {
        "id": "FapyCIdRoTR2"
      }
    },
    {
      "cell_type": "markdown",
      "source": [
        "9. What three functions can be used to get the integer, floating-point number, or string version of a value?"
      ],
      "metadata": {
        "id": "pQ5tCBtvpOEy"
      }
    },
    {
      "cell_type": "markdown",
      "source": [
        "These functions will evaluate to the integer, floating-point number, and string versions of the value passed to them.\n",
        "\n",
        "*  int() \n",
        "*  float() \n",
        "*  str( ) "
      ],
      "metadata": {
        "id": "sHAcFgIXqD39"
      }
    },
    {
      "cell_type": "markdown",
      "source": [
        "10. Why does this expression cause an error? How can you fix it?\n",
        "*  'I have eaten ' + 99 + ' burritos.'\n"
      ],
      "metadata": {
        "id": "KB4NOBwXqlG1"
      }
    },
    {
      "cell_type": "code",
      "source": [
        "'I have eaten ' + \"99\" + ' burritos.' # Need to convert (99) integer to String \"99\""
      ],
      "metadata": {
        "colab": {
          "base_uri": "https://localhost:8080/",
          "height": 36
        },
        "id": "-CPNrrbnqcae",
        "outputId": "305d0dca-97ec-418f-aa4d-7918d88e6ff6"
      },
      "execution_count": 18,
      "outputs": [
        {
          "output_type": "execute_result",
          "data": {
            "text/plain": [
              "'I have eaten 99 burritos.'"
            ],
            "application/vnd.google.colaboratory.intrinsic+json": {
              "type": "string"
            }
          },
          "metadata": {},
          "execution_count": 18
        }
      ]
    },
    {
      "cell_type": "markdown",
      "source": [
        "##Thank You \n",
        "##Happy Learning"
      ],
      "metadata": {
        "id": "jlLuSuwWq8-_"
      }
    }
  ]
}