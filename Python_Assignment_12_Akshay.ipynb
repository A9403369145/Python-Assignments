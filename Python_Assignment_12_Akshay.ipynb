{
 "cells": [
  {
   "attachments": {},
   "cell_type": "markdown",
   "metadata": {},
   "source": [
    "## Python Assignment_12\n",
    "\n",
    "## FSDS_2.0\n",
    "\n",
    "Submitted by - Akshay Gaidhani"
   ]
  },
  {
   "attachments": {},
   "cell_type": "markdown",
   "metadata": {},
   "source": [
    "1. In what modes should the PdfFileReader() and PdfFileWriter() File objects will be opened?\n",
    "\n",
    "2. From a PdfFileReader object, how do you get a Page object for page 5?\n",
    "\n",
    "3. What PdfFileReader variable stores the number of pages in the PDF document?\n",
    "\n",
    "4. If a PdfFileReader object’s PDF is encrypted with the password swordfish, what must you do before you can obtain Page objects from it?\n",
    "\n",
    "5. What methods do you use to rotate a page?\n",
    "\n",
    "6. What is the difference between a Run object and a Paragraph object?\n",
    "\n",
    "7. How do you obtain a list of Paragraph objects for a Document object that’s stored in a variable named doc?\n",
    "\n",
    "8. What type of object has bold, underline, italic, strike, and outline variables?\n",
    "\n",
    "9. What is the difference between False, True, and None for the bold variable?\n",
    "\n",
    "10. How do you create a Document object for a new Word document?\n",
    "\n",
    "11. How do you add a paragraph with the text 'Hello, there!' to a Document object stored in a variable named doc?\n",
    "\n",
    "12. What integers represent the levels of headings available in Word documents?"
   ]
  },
  {
   "attachments": {},
   "cell_type": "markdown",
   "metadata": {},
   "source": [
    "### Solutions"
   ]
  },
  {
   "attachments": {},
   "cell_type": "markdown",
   "metadata": {},
   "source": [
    "1. In what modes should the PdfFileReader() and PdfFileWriter() File objects will be opened?\n",
    "\n",
    "-  When using PdfFileReader() to read a PDF file, we should open the file object in binary mode ('rb'). \n",
    "-  When using PdfFileWriter() to write or modify a PDF file, we should open the file object in binary write mode ('wb')\n"
   ]
  },
  {
   "cell_type": "code",
   "execution_count": 20,
   "metadata": {},
   "outputs": [
    {
     "name": "stdout",
     "output_type": "stream",
     "text": [
      " A Simple PDF File \n",
      " This is a small demonstration .pdf file - \n",
      " just for use in the Virtual Mechanics tutorials. More text. And more \n",
      " text. And more text. And more text. And more text. \n",
      " And more text. And more text. And more text. And more text. And more \n",
      " text. And more text. Boring, zzzzz. And more text. And more text. And \n",
      " more text. And more text. And more text. And more text. And more text. \n",
      " And more text. And more text. \n",
      " And more text. And more text. And more text. And more text. And more \n",
      " text. And more text. And more text. Even more. Continued on page 2 ...\n"
     ]
    }
   ],
   "source": [
    "from PyPDF2 import PdfReader\n",
    "\n",
    "reader = PdfReader(\"Test_ak.pdf\")\n",
    "page = reader.pages[0]\n",
    "print(page.extract_text())"
   ]
  },
  {
   "cell_type": "code",
   "execution_count": 33,
   "metadata": {},
   "outputs": [
    {
     "name": "stdout",
     "output_type": "stream",
     "text": [
      "Chapter 1\n",
      "Template\n",
      "1.1 How to compilea .texﬁleto a.pdfﬁle\n",
      "1.1.1 Tools\n",
      "To processthe ﬁlesyou(may)need:\n",
      "\u000fpdflatex (for example from tetexpackage\u00150.9-6, which you can\n",
      "getfromRed Hat5.2 );\n",
      "\u000facroread (a PDFviewer,availablefrom http://www.adobe.com/ );\n",
      "\u000fghostscript\u00155.10(forexamplefrom RedHatContrib )andghostview\n",
      "orgv(fromRedHatLinux);\n",
      "\u000fefaxpackagecouldbe useful,ifyou plantofax documents.\n",
      "1.1.2 How touse the tools\n",
      "Follow thesesteps:\n",
      "1.putallsource .texﬁlesinonedirectory,thenchdirtothedirectory(orput\n",
      "someofthemin theL ATEXsearchpath—if youknowhowto dothis);\n",
      "2.run“pdflatex file.tex ”onthemainﬁleofthedocumentthreetimes\n",
      "(three—to preparevalidtable ofcontents);\n",
      "3.to see or print the result use acroread (unfortunately some versions of\n",
      "acroread mayproducePostScriptwhichistoo complex),or\n",
      "5\n"
     ]
    }
   ],
   "source": [
    "#2. From a PdfFileReader object, how do you get a Page object for page 5?\n",
    "\n",
    "from PyPDF2 import PdfReader\n",
    "\n",
    "reader = PdfReader(\"sample_ak.pdf\")\n",
    "page_number = reader.pages[4] # Page 5 (zero-based index)\n",
    "print(page_number.extract_text())"
   ]
  },
  {
   "cell_type": "code",
   "execution_count": 113,
   "metadata": {},
   "outputs": [
    {
     "name": "stdout",
     "output_type": "stream",
     "text": [
      "The PDF document has 10 pages.\n"
     ]
    }
   ],
   "source": [
    "# 3. What PdfFileReader variable stores the number of pages in the PDF document?\n",
    "\n",
    "# getNumPages() method of PdfFileReader class stores the no pages in a PDF document\n",
    "\n",
    "# We can use num_pages = pdf_reader.numPages\n",
    "\n",
    "reader = PdfReader(\"sample_ak.pdf\")\n",
    "\n",
    "num_pages = len(reader.pages)\n",
    "print(f\"The PDF document has {num_pages} pages.\")"
   ]
  },
  {
   "cell_type": "code",
   "execution_count": 72,
   "metadata": {},
   "outputs": [
    {
     "name": "stdout",
     "output_type": "stream",
     "text": [
      "10 CHAPTER1. TEMPLATE\n",
      "–large\n",
      "–Large\n",
      "–LARGE\n",
      "–huge\n",
      "–Huge\n"
     ]
    }
   ],
   "source": [
    "\n",
    "# 4. If a PdfFileReader object’s PDF is encrypted with the password swordfish, what must you do before you can obtain Page objects from it?\n",
    "\n",
    "# decrypt the pdf before doing any operations\n",
    "\n",
    "from PyPDF2 import *\n",
    "\n",
    "reader = PdfReader(\"sample_akshay_protected.pdf\")\n",
    "\n",
    "if reader.is_encrypted:\n",
    "    reader.decrypt(\"swordfish\")\n",
    "\n",
    "    page = reader.pages[9]\n",
    "    print(page.extract_text())\n"
   ]
  },
  {
   "cell_type": "code",
   "execution_count": 86,
   "metadata": {},
   "outputs": [],
   "source": [
    "#5. What methods do you use to rotate a page?\n",
    "\n",
    "# The rotateClockwise() and rotateCounterClockwise() methods can be used o rotate the pages. The degrees to rotate is passed as an integer argument\n",
    "\n",
    "from PyPDF2 import PdfReader, PdfWriter\n",
    "\n",
    "pdf_reader = PdfReader(\"sample_ak.pdf\")\n",
    "pdf_writer = PdfWriter()\n",
    "\n",
    "for page in pdf_reader.pages:\n",
    "    page.rotate(90)\n",
    "    pdf_writer.add_page(page)\n",
    "\n",
    "with open('output.pdf', 'wb') as My_output_file:\n",
    "    pdf_writer.write(My_output_file)"
   ]
  },
  {
   "cell_type": "code",
   "execution_count": 108,
   "metadata": {},
   "outputs": [],
   "source": [
    "# 6. What is the difference between a Run object and a Paragraph object?\n",
    "\n",
    "# Paragraph Object : A document contains multiple paragraphs. A paragraph begins on a new line and contains multiple runs. \n",
    "# - The Document object contains a list of Paragraph objects for the paragraphs in the document. \n",
    "\n",
    "# Run Objects : Runs are contiguous groups of characters within a paragraph with the same style\n",
    "\n",
    "import docx\n",
    "\n",
    "doc = docx.Document()\n",
    "\n",
    "doc.add_heading('FSDS2.0_Python_Assignment', 0)\n",
    "\n",
    "doc.add_paragraph(\"\"\"Hi My name is Akshay i am student of FSDS2.0 batch working with TCS and trting to acquire new skills.\n",
    "Python - Work in progress\n",
    "Stats - Alomost Done\n",
    "BI - In progress\n",
    "Excel - Done\n",
    "\"\"\")\n",
    "\n",
    "doc.save('Akshay_Sample.docx')"
   ]
  },
  {
   "cell_type": "code",
   "execution_count": 115,
   "metadata": {},
   "outputs": [
    {
     "name": "stdout",
     "output_type": "stream",
     "text": [
      "[<docx.text.paragraph.Paragraph object at 0x000001DD020EA2F0>, <docx.text.paragraph.Paragraph object at 0x000001DD020EA140>]\n",
      "---------------------------\n",
      "FSDS2.0_Python_Assignment\n",
      "Hi My name is Akshay i am student of FSDS2.0 batch working with TCS and trting to acquire new skills.\n",
      "Python - Work in progress\n",
      "Stats - Alomost Done\n",
      "BI - In progress\n",
      "Excel - Done\n",
      "\n"
     ]
    }
   ],
   "source": [
    "# 7. How do you obtain a list of Paragraph objects for a Document object that’s stored in a variable named doc?\n",
    "\n",
    "import docx\n",
    "\n",
    "doc = docx.Document(\"Akshay_Sample.docx\")\n",
    "print(doc.paragraphs)\n",
    "print(\"---------------------------\")\n",
    "\n",
    "for paragraphs in doc.paragraphs:\n",
    "    print(paragraphs.text)\n"
   ]
  },
  {
   "attachments": {},
   "cell_type": "markdown",
   "metadata": {},
   "source": [
    "8. What type of object has bold, underline, italic, strike, and outline variables?\n",
    "\n",
    "- Run object has bold, underline, italic, strike, and outline variables.\n"
   ]
  },
  {
   "attachments": {},
   "cell_type": "markdown",
   "metadata": {},
   "source": [
    "9. What is the difference between False, True, and None for the bold variable?\n",
    "\n",
    "-  By using these different values for the bold variable, we can control the bold formatting of specific runs of text within a Word document\n",
    "\n",
    "- bold = True  # Style Set to Bold\n",
    "- bold = False # Style Not Set to Bold\n",
    "- bold = None # Style is Not Applicable"
   ]
  },
  {
   "attachments": {},
   "cell_type": "markdown",
   "metadata": {},
   "source": [
    "10. How do you create a Document object for a new Word document?\n"
   ]
  },
  {
   "cell_type": "code",
   "execution_count": 119,
   "metadata": {},
   "outputs": [],
   "source": [
    "import docx\n",
    "\n",
    "doc = docx.Document(\"Akshay_Sample.docx\")"
   ]
  },
  {
   "cell_type": "code",
   "execution_count": 11,
   "metadata": {},
   "outputs": [
    {
     "name": "stdout",
     "output_type": "stream",
     "text": [
      "Hello, there!\n"
     ]
    }
   ],
   "source": [
    "# 11. How do you add a paragraph with the text 'Hello, there!' to a Document object stored in a variable named doc?\n",
    "\n",
    "import docx\n",
    "\n",
    "doc = docx.Document()\n",
    "doc.add_paragraph('Hello, there!')\n",
    "\n",
    "\n",
    "doc.save(\"Hellothere.docx\")\n",
    "\n",
    "for paragraph in doc.paragraphs:\n",
    "    print(paragraph.text)"
   ]
  },
  {
   "attachments": {},
   "cell_type": "markdown",
   "metadata": {},
   "source": [
    "12. What integers represent the levels of headings available in Word documents?\n",
    "\n",
    "- The levels for a heading in a word document can be specified by using the level attribute inside the add_heading method. There are a total of 5 levels statring for 0 t0 4. where level 0 makes a headline with the horizontal line below the text, whereas the heading level 1 is the main heading. Similarly, the other headings are sub-heading with their's font-sizes in decreasing order."
   ]
  },
  {
   "attachments": {},
   "cell_type": "markdown",
   "metadata": {},
   "source": [
    "### Thank You \n",
    "### Happy Learning"
   ]
  }
 ],
 "metadata": {
  "kernelspec": {
   "display_name": "base",
   "language": "python",
   "name": "python3"
  },
  "language_info": {
   "codemirror_mode": {
    "name": "ipython",
    "version": 3
   },
   "file_extension": ".py",
   "mimetype": "text/x-python",
   "name": "python",
   "nbconvert_exporter": "python",
   "pygments_lexer": "ipython3",
   "version": "3.10.9"
  },
  "orig_nbformat": 4
 },
 "nbformat": 4,
 "nbformat_minor": 2
}
