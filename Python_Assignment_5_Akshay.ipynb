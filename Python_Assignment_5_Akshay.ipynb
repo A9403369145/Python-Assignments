{
  "nbformat": 4,
  "nbformat_minor": 0,
  "metadata": {
    "colab": {
      "provenance": []
    },
    "kernelspec": {
      "name": "python3",
      "display_name": "Python 3"
    },
    "language_info": {
      "name": "python"
    }
  },
  "cells": [
    {
      "cell_type": "markdown",
      "source": [
        "# Python_Assignment_5\n",
        "## FSDS 2.0\n",
        " Submitted by Akshay Gaidhani"
      ],
      "metadata": {
        "id": "f-ghz9lh_aYw"
      }
    },
    {
      "cell_type": "markdown",
      "source": [
        "1. What does an empty dictionary's code look like?\n",
        "\n"
      ],
      "metadata": {
        "id": "ILjCMHy2BFkL"
      }
    },
    {
      "cell_type": "code",
      "source": [
        "a = {}\n",
        "\n",
        "print(type(a))"
      ],
      "metadata": {
        "colab": {
          "base_uri": "https://localhost:8080/"
        },
        "id": "2oMtASjrBfcU",
        "outputId": "45804a0f-5f00-4fc0-c7d6-539116f1bc20"
      },
      "execution_count": 2,
      "outputs": [
        {
          "output_type": "stream",
          "name": "stdout",
          "text": [
            "<class 'dict'>\n"
          ]
        }
      ]
    },
    {
      "cell_type": "markdown",
      "source": [
        "2. What is the value of a dictionary value with the key 'foo' and the value 42?\n",
        "\n"
      ],
      "metadata": {
        "id": "r77ZIi6ABFnm"
      }
    },
    {
      "cell_type": "code",
      "source": [
        "b = {\"foo\":42}\n",
        "print(b.values())\n",
        "print(b.keys())"
      ],
      "metadata": {
        "colab": {
          "base_uri": "https://localhost:8080/"
        },
        "id": "Wf5chYCrC2zF",
        "outputId": "f01be6e2-337b-4ffa-930c-44fb65887c5a"
      },
      "execution_count": 12,
      "outputs": [
        {
          "output_type": "stream",
          "name": "stdout",
          "text": [
            "dict_values([42])\n",
            "dict_keys(['foo'])\n"
          ]
        }
      ]
    },
    {
      "cell_type": "markdown",
      "source": [
        "3. What is the most significant distinction between a dictionary and a list?\n",
        "\n",
        "* - A list is a mutable, ordered sequence of items. \n",
        "* - A dictionary is a mutable, unordered set of key-value pairs where each key must be unique.\n"
      ],
      "metadata": {
        "id": "ki_ED4oPBFsl"
      }
    },
    {
      "cell_type": "markdown",
      "source": [
        "4. What happens if you try to access spam['foo'] if spam is {'bar': 100}?"
      ],
      "metadata": {
        "id": "1OKaDrX0BFxV"
      }
    },
    {
      "cell_type": "code",
      "source": [
        "spam = {'bar': 100}\n",
        "spam['foo'] # KayError"
      ],
      "metadata": {
        "colab": {
          "base_uri": "https://localhost:8080/",
          "height": 183
        },
        "id": "Gb1oiJ3fFc3F",
        "outputId": "cacc7d94-460d-42b3-f1c9-d4e55ce1d782"
      },
      "execution_count": 14,
      "outputs": [
        {
          "output_type": "error",
          "ename": "KeyError",
          "evalue": "ignored",
          "traceback": [
            "\u001b[0;31m---------------------------------------------------------------------------\u001b[0m",
            "\u001b[0;31mKeyError\u001b[0m                                  Traceback (most recent call last)",
            "\u001b[0;32m<ipython-input-14-56a8e50c7ff8>\u001b[0m in \u001b[0;36m<module>\u001b[0;34m\u001b[0m\n\u001b[1;32m      1\u001b[0m \u001b[0mspam\u001b[0m \u001b[0;34m=\u001b[0m \u001b[0;34m{\u001b[0m\u001b[0;34m'bar'\u001b[0m\u001b[0;34m:\u001b[0m \u001b[0;36m100\u001b[0m\u001b[0;34m}\u001b[0m\u001b[0;34m\u001b[0m\u001b[0;34m\u001b[0m\u001b[0m\n\u001b[0;32m----> 2\u001b[0;31m \u001b[0mspam\u001b[0m\u001b[0;34m[\u001b[0m\u001b[0;34m'foo'\u001b[0m\u001b[0;34m]\u001b[0m\u001b[0;34m\u001b[0m\u001b[0;34m\u001b[0m\u001b[0m\n\u001b[0m",
            "\u001b[0;31mKeyError\u001b[0m: 'foo'"
          ]
        }
      ]
    },
    {
      "cell_type": "markdown",
      "source": [
        "5. If a dictionary is stored in spam, what is the difference between the expressions 'cat' in spam and 'cat' in spam.keys()?\n",
        "\n"
      ],
      "metadata": {
        "id": "0kLJH6V_BF1M"
      }
    },
    {
      "cell_type": "code",
      "source": [
        "spam = {'cat': 100} # Thare is no difference \n",
        "print(type(spam.keys()))\n",
        "spam.keys()"
      ],
      "metadata": {
        "colab": {
          "base_uri": "https://localhost:8080/"
        },
        "id": "TPjnBvCAFb8A",
        "outputId": "e51fa929-2cc6-4dd1-dddf-95b186af80e3"
      },
      "execution_count": 21,
      "outputs": [
        {
          "output_type": "stream",
          "name": "stdout",
          "text": [
            "<class 'dict_keys'>\n"
          ]
        },
        {
          "output_type": "execute_result",
          "data": {
            "text/plain": [
              "dict_keys(['cat'])"
            ]
          },
          "metadata": {},
          "execution_count": 21
        }
      ]
    },
    {
      "cell_type": "markdown",
      "source": [
        "6. If a dictionary is stored in spam, what is the difference between the expressions 'cat' in spam and 'cat' in spam.values()?"
      ],
      "metadata": {
        "id": "AutP910ABUhV"
      }
    },
    {
      "cell_type": "code",
      "source": [
        "spam = {'cat': 100} #'cat' in spam checks whether there is a 'cat' key in the dictionary, \n",
        "print(type(spam.values())) \n",
        "spam.values() #'cat' in spam.values() checks whether there is a value 'cat' for one of the keys in spam."
      ],
      "metadata": {
        "colab": {
          "base_uri": "https://localhost:8080/"
        },
        "id": "klDW6_FfGvxy",
        "outputId": "71d0990f-aab3-4059-c9da-02d84c17fdee"
      },
      "execution_count": 46,
      "outputs": [
        {
          "output_type": "stream",
          "name": "stdout",
          "text": [
            "<class 'dict_values'>\n"
          ]
        },
        {
          "output_type": "execute_result",
          "data": {
            "text/plain": [
              "dict_values([100])"
            ]
          },
          "metadata": {},
          "execution_count": 46
        }
      ]
    },
    {
      "cell_type": "markdown",
      "source": [
        "7. What is a shortcut for the following code?\n",
        "if 'color' not in spam:\n",
        "spam['color'] = 'black'\n"
      ],
      "metadata": {
        "id": "F8YXy189BUos"
      }
    },
    {
      "cell_type": "code",
      "source": [
        "spam = {\"colour1\":\"Red\"}\n",
        "\n",
        "spam.update({\"color\": \"black\"})\n",
        "print(spam)\n",
        "spam.setdefault(\"colour:black\")"
      ],
      "metadata": {
        "colab": {
          "base_uri": "https://localhost:8080/"
        },
        "id": "Qf00L-HcG-h5",
        "outputId": "d6a8a2da-222c-4ade-ee98-ec1c97d098af"
      },
      "execution_count": 45,
      "outputs": [
        {
          "output_type": "stream",
          "name": "stdout",
          "text": [
            "{'colour1': 'Red', 'color': 'black'}\n"
          ]
        }
      ]
    },
    {
      "cell_type": "markdown",
      "source": [
        "8. How do you \"pretty print\" dictionary values using which module and function?"
      ],
      "metadata": {
        "id": "bpGTLiBqBUrw"
      }
    },
    {
      "cell_type": "code",
      "source": [
        "import pprint"
      ],
      "metadata": {
        "id": "E6r8xxlcHbPk"
      },
      "execution_count": 30,
      "outputs": []
    },
    {
      "cell_type": "code",
      "source": [
        "spam = {'cat': 100}\n",
        "pprint.pprint(spam)"
      ],
      "metadata": {
        "colab": {
          "base_uri": "https://localhost:8080/"
        },
        "id": "eyFFbjv_ILqN",
        "outputId": "3dc08307-d272-495b-eb05-28bee22e5a9d"
      },
      "execution_count": 38,
      "outputs": [
        {
          "output_type": "stream",
          "name": "stdout",
          "text": [
            "{'cat': 100}\n"
          ]
        }
      ]
    },
    {
      "cell_type": "markdown",
      "source": [
        "##Thank You \n",
        "##Happy Learning "
      ],
      "metadata": {
        "id": "SRBSCAfqMfvY"
      }
    }
  ]
}