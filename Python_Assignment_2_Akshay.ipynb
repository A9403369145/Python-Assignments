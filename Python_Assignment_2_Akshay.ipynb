{
  "nbformat": 4,
  "nbformat_minor": 0,
  "metadata": {
    "colab": {
      "provenance": []
    },
    "kernelspec": {
      "name": "python3",
      "display_name": "Python 3"
    },
    "language_info": {
      "name": "python"
    }
  },
  "cells": [
    {
      "cell_type": "markdown",
      "source": [
        "# Python_Assignment_2\n",
        "## FSDS 2.0\n",
        " Submitted by Akshay Gaidhani"
      ],
      "metadata": {
        "id": "SlgXEOF0p8FW"
      }
    },
    {
      "cell_type": "markdown",
      "source": [
        "1.What are the two values of the Boolean data type? How do you write them?"
      ],
      "metadata": {
        "id": "M8KGgd9jq-qS"
      }
    },
    {
      "cell_type": "markdown",
      "source": [
        "Python boolean type is built-in data types provided by Python, A Boolean data type is a value that can only be either true or false."
      ],
      "metadata": {
        "id": "acAL3xgqvpQO"
      }
    },
    {
      "cell_type": "code",
      "source": [
        "a = True\n",
        "print(a,(type(a)))\n",
        "\n",
        "b = False\n",
        "print(b,(type(b)))\n"
      ],
      "metadata": {
        "colab": {
          "base_uri": "https://localhost:8080/"
        },
        "id": "B4690hP0v2RS",
        "outputId": "0b96ce3b-4965-4b10-a0db-39a646f0c407"
      },
      "execution_count": null,
      "outputs": [
        {
          "output_type": "stream",
          "name": "stdout",
          "text": [
            "True <class 'bool'>\n",
            "False <class 'bool'>\n"
          ]
        }
      ]
    },
    {
      "cell_type": "code",
      "source": [
        "a = 10\n",
        "b = 20\n",
        "\n",
        "# Comparing variables\n",
        "print(a == b)\n"
      ],
      "metadata": {
        "colab": {
          "base_uri": "https://localhost:8080/"
        },
        "id": "58eij0kov2pP",
        "outputId": "4389dc60-46cc-405a-ced2-cf4a769b10c6"
      },
      "execution_count": null,
      "outputs": [
        {
          "output_type": "stream",
          "name": "stdout",
          "text": [
            "False\n"
          ]
        }
      ]
    },
    {
      "cell_type": "markdown",
      "source": [
        "2. What are the three different types of Boolean operators?"
      ],
      "metadata": {
        "id": "ZcDzr7RrwUDT"
      }
    },
    {
      "cell_type": "markdown",
      "source": [
        "Boolean Operations are simple arithmetic of True and False values. These values can be manipulated by the use of boolean operators which include AND, Or, and NOT\n",
        "\n",
        "*  or\n",
        "*  and\n",
        "*  not\n",
        "*  == (equivalent)\n",
        "*  != (not equivalent)"
      ],
      "metadata": {
        "id": "-nD2GJKjwtYD"
      }
    },
    {
      "cell_type": "markdown",
      "source": [
        "3. Make a list of each Boolean operator's truth tables (i.e. every possible combination of Boolean values for the operator and what it evaluate)."
      ],
      "metadata": {
        "id": "ucN2p4SwxgM9"
      }
    },
    {
      "cell_type": "markdown",
      "source": [
        "Boolean OR Operator\n",
        "\n",
        "A |\tB\t|A or B\n",
        "- | - | -\n",
        "True |\tTrue |\tTrue\n",
        "True |\tFalse |\tTrue\n",
        "False |\tTrue |\tTrue\n",
        "False |\tFalse\t| False\n",
        "\n",
        "Boolean And Operator\n",
        "\n",
        "A\t| B\t| A and B\n",
        "- | - | -\n",
        "True\t| True\t| True\n",
        "True\t| False\t| False\n",
        "False\t| True\t| False\n",
        "False\t| False\t| False\n",
        "\n",
        "Boolean Not Operator\n",
        "\n",
        "A\t| Not A\n",
        "- | - \n",
        "True\t| False\n",
        "False\t| True"
      ],
      "metadata": {
        "id": "KzpaXYiux-Zp"
      }
    },
    {
      "cell_type": "markdown",
      "source": [
        "4. What are the values of the following expressions?"
      ],
      "metadata": {
        "id": "4iOUdAXyziE_"
      }
    },
    {
      "cell_type": "code",
      "source": [
        "print((5 > 4) and (3 == 5))\n",
        "print(not (5 > 4))\n",
        "print((5 > 4) or (3 == 5))\n",
        "print(not ((5 > 4) or (3 == 5)))\n",
        "print((True and True) and (True == False))\n",
        "print((not False) or (not True))"
      ],
      "metadata": {
        "colab": {
          "base_uri": "https://localhost:8080/"
        },
        "id": "GzxnnYBHwKu4",
        "outputId": "88888799-c063-456e-f4e0-0ff9bb933d86"
      },
      "execution_count": 7,
      "outputs": [
        {
          "output_type": "stream",
          "name": "stdout",
          "text": [
            "False\n",
            "False\n",
            "True\n",
            "False\n",
            "False\n",
            "True\n"
          ]
        }
      ]
    },
    {
      "cell_type": "markdown",
      "source": [
        "5. What are the six comparison operators?\n",
        "\n",
        "comparison operators- \n",
        "\n",
        "* x == y               # ... x is equal to y\n",
        "* x != y               # ... x is not equal to y\n",
        "* x > y                # ... x is greater than y\n",
        "* x < y                # ... x is less than y\n",
        "* x >= y               # ... x is greater than or equal to y\n",
        "* x <= y               # ... x is less than or equal to y"
      ],
      "metadata": {
        "id": "eW1BsWCy0bJr"
      }
    },
    {
      "cell_type": "markdown",
      "source": [
        "6. How do you tell the difference between the equal to and assignment operators?Describe a condition and when you would use one."
      ],
      "metadata": {
        "id": "jeEZzQYr2Hn0"
      }
    },
    {
      "cell_type": "code",
      "source": [
        "#The “=” is an assignment operator is used to assign the value on the right to the variable on the left. \n",
        "A = 20 \n",
        "\n",
        "#The '==' operator checks whether the two given operands are equal or not. If so, it returns true.\n",
        "A == 20"
      ],
      "metadata": {
        "colab": {
          "base_uri": "https://localhost:8080/"
        },
        "id": "7YqjbLrB2l1o",
        "outputId": "68a2b267-3724-4a29-f3a3-8444d71b8ab5"
      },
      "execution_count": null,
      "outputs": [
        {
          "output_type": "execute_result",
          "data": {
            "text/plain": [
              "True"
            ]
          },
          "metadata": {},
          "execution_count": 13
        }
      ]
    },
    {
      "cell_type": "markdown",
      "source": [
        "7. Identify the three blocks in this code:"
      ],
      "metadata": {
        "id": "LQJkrkAA3AQj"
      }
    },
    {
      "cell_type": "code",
      "source": [
        "spam = 0\n",
        "if spam == 10:\n",
        "  print('eggs')\n",
        "if spam > 5:\n",
        "  print('bacon')\n",
        "else:\n",
        "  print('ham')\n",
        "  print('spam')\n",
        "  print('spam')\n"
      ],
      "metadata": {
        "colab": {
          "base_uri": "https://localhost:8080/"
        },
        "id": "gxFzUXEa2357",
        "outputId": "d0dc5895-ad6d-4829-d3fd-18308654e231"
      },
      "execution_count": null,
      "outputs": [
        {
          "output_type": "stream",
          "name": "stdout",
          "text": [
            "ham\n",
            "spam\n",
            "spam\n"
          ]
        }
      ]
    },
    {
      "cell_type": "markdown",
      "source": [
        "8. Write code that prints Hello if 1 is stored in spam, prints Howdy if 2 is stored in spam, and prints Greetings! if anything else is stored in spam."
      ],
      "metadata": {
        "id": "fCJpfs7K3yWW"
      }
    },
    {
      "cell_type": "code",
      "source": [
        "spam = int(input(\"Enter A value: \"))\n",
        "\n",
        "if spam == 1 :\n",
        "  print(\"Hello\")\n",
        "elif spam == 2 :\n",
        "  print(\"Howdy\")\n",
        "else:\n",
        "    print(\"Greetings!\")"
      ],
      "metadata": {
        "colab": {
          "base_uri": "https://localhost:8080/"
        },
        "id": "VLwnTU3O3ChI",
        "outputId": "e5b65a5d-d3f8-446c-f35f-0418a630e2f6"
      },
      "execution_count": null,
      "outputs": [
        {
          "output_type": "stream",
          "name": "stdout",
          "text": [
            "Enter A value: 2\n",
            "Howdy\n"
          ]
        }
      ]
    },
    {
      "cell_type": "markdown",
      "source": [
        "9.If your programme is stuck in an endless loop, what keys you’ll press?\n",
        "\n",
        "\n",
        "* - we can use Break statement of press CTRL + C"
      ],
      "metadata": {
        "id": "PXSVV68O52ef"
      }
    },
    {
      "cell_type": "markdown",
      "source": [
        "10. How can you tell the difference between break and continue?\n",
        "\n",
        "* - The break statement is primarily used as an exit statement, allowing you to exit the current loop. Conversely, the continue statement aids in moving from the current loop iteration to the next loop"
      ],
      "metadata": {
        "id": "KrXRBbNe67j3"
      }
    },
    {
      "cell_type": "code",
      "source": [
        "#Use of Break\n",
        "j = range(10)\n",
        "\n",
        "for i in range(10):\n",
        "  if i ==5:\n",
        "    break\n",
        "  print(i+1)"
      ],
      "metadata": {
        "colab": {
          "base_uri": "https://localhost:8080/"
        },
        "id": "X63CIULleZbm",
        "outputId": "fa638dd3-c26a-4196-cfe9-6c806a3de694"
      },
      "execution_count": 17,
      "outputs": [
        {
          "output_type": "stream",
          "name": "stdout",
          "text": [
            "1\n",
            "2\n",
            "3\n",
            "4\n",
            "5\n"
          ]
        }
      ]
    },
    {
      "cell_type": "code",
      "source": [
        "#Use of continue\n",
        "j = range(10)\n",
        "\n",
        "for i in range(10):\n",
        "  if i ==5:\n",
        "    continue\n",
        "  print(i+1)"
      ],
      "metadata": {
        "colab": {
          "base_uri": "https://localhost:8080/"
        },
        "id": "60PRiFvgfTfQ",
        "outputId": "949a1849-f8e7-46cf-c498-b112a079e7b2"
      },
      "execution_count": 19,
      "outputs": [
        {
          "output_type": "stream",
          "name": "stdout",
          "text": [
            "1\n",
            "2\n",
            "3\n",
            "4\n",
            "5\n",
            "7\n",
            "8\n",
            "9\n",
            "10\n"
          ]
        }
      ]
    },
    {
      "cell_type": "markdown",
      "source": [
        "11. In a for loop, what is the difference between range(10), range(0, 10), and range(0, 10, 1)?"
      ],
      "metadata": {
        "id": "vs1HWlVQ7wjV"
      }
    },
    {
      "cell_type": "code",
      "source": [
        "#range(start,stop,step)\n",
        "a = range(10)\n",
        "print(a)\n",
        "print(list(range(10)))\n",
        "b = range(0, 10)\n",
        "print(b)\n",
        "print(list(range(0,10)))\n",
        "c = range(0, 10, 1)\n",
        "print(c)\n",
        "print(list(range(0,10,1)))\n",
        "\n",
        "# Output for all three method is same "
      ],
      "metadata": {
        "colab": {
          "base_uri": "https://localhost:8080/"
        },
        "id": "WkETVGQy5GQi",
        "outputId": "9fb8a2e1-a2ff-4820-d91f-9c3b0d1445e8"
      },
      "execution_count": null,
      "outputs": [
        {
          "output_type": "stream",
          "name": "stdout",
          "text": [
            "range(0, 10)\n",
            "[0, 1, 2, 3, 4, 5, 6, 7, 8, 9]\n",
            "range(0, 10)\n",
            "[0, 1, 2, 3, 4, 5, 6, 7, 8, 9]\n",
            "range(0, 10)\n",
            "[0, 1, 2, 3, 4, 5, 6, 7, 8, 9]\n"
          ]
        }
      ]
    },
    {
      "cell_type": "markdown",
      "source": [
        "12. Write a short program that prints the numbers 1 to 10 using a for loop. Then write an equivalent program that prints the numbers 1 to 10 using a while loop."
      ],
      "metadata": {
        "id": "nK5OKawt8nYw"
      }
    },
    {
      "cell_type": "code",
      "source": [
        "#1 to 10 using a for loop\n",
        "x = list(range(0,10))\n",
        "\n",
        "for i in x:\n",
        "  print(i+1)"
      ],
      "metadata": {
        "colab": {
          "base_uri": "https://localhost:8080/"
        },
        "id": "_3k4S5l08n_N",
        "outputId": "e78941b0-dd97-4d8a-bce8-1e5ad93ed658"
      },
      "execution_count": null,
      "outputs": [
        {
          "output_type": "stream",
          "name": "stdout",
          "text": [
            "1\n",
            "2\n",
            "3\n",
            "4\n",
            "5\n",
            "6\n",
            "7\n",
            "8\n",
            "9\n",
            "10\n"
          ]
        }
      ]
    },
    {
      "cell_type": "code",
      "source": [
        "# while loop\n",
        "i =1\n",
        "\n",
        "while i <= 10:\n",
        "  print(i)\n",
        "  i = i +1"
      ],
      "metadata": {
        "colab": {
          "base_uri": "https://localhost:8080/"
        },
        "id": "tUC8zitHbyKv",
        "outputId": "1fcc86d5-9135-451c-ffa7-98692702b60b"
      },
      "execution_count": 2,
      "outputs": [
        {
          "output_type": "stream",
          "name": "stdout",
          "text": [
            "1\n",
            "2\n",
            "3\n",
            "4\n",
            "5\n",
            "6\n",
            "7\n",
            "8\n",
            "9\n",
            "10\n"
          ]
        }
      ]
    },
    {
      "cell_type": "markdown",
      "source": [
        "13. If you had a function named bacon() inside a module named spam, how would you call it after importing spam?"
      ],
      "metadata": {
        "id": "RJA86MYmAA_g"
      }
    },
    {
      "cell_type": "markdown",
      "source": [
        "The function can be called with spam.bacon()."
      ],
      "metadata": {
        "id": "LCz17u8pdM4F"
      }
    },
    {
      "cell_type": "markdown",
      "source": [
        "##Thank You \n",
        "##Happy Learning "
      ],
      "metadata": {
        "id": "J9HYIcBLdWKZ"
      }
    }
  ]
}