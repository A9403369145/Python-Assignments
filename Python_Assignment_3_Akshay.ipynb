{
  "nbformat": 4,
  "nbformat_minor": 0,
  "metadata": {
    "colab": {
      "provenance": []
    },
    "kernelspec": {
      "name": "python3",
      "display_name": "Python 3"
    },
    "language_info": {
      "name": "python"
    }
  },
  "cells": [
    {
      "cell_type": "markdown",
      "source": [
        "# Python_Assignment_3\n",
        "## FSDS 2.0\n",
        " Submitted by Akshay Gaidhani"
      ],
      "metadata": {
        "id": "iseDXhbeKN7j"
      }
    },
    {
      "cell_type": "markdown",
      "source": [
        "1. Why are functions advantageous to have in your programs?\n",
        "\n",
        "* With the help of function, we can avoid repetition and makes our code reusable\n",
        "* Fnctions make code easier to read, and easier to update."
      ],
      "metadata": {
        "id": "OwWfewv9Kq6G"
      }
    },
    {
      "cell_type": "markdown",
      "source": [
        "2. When does the code in a function run: when it's specified or when it's called?\n",
        "\n",
        "* Function run when we it is called "
      ],
      "metadata": {
        "id": "n3rpN4nOKtOb"
      }
    },
    {
      "cell_type": "code",
      "source": [
        "A=10\n",
        "B=20\n",
        "\n",
        "C = A+B\n",
        "\n",
        "print(C)"
      ],
      "metadata": {
        "colab": {
          "base_uri": "https://localhost:8080/"
        },
        "id": "G43uR82bOQoZ",
        "outputId": "4255609d-812d-4125-94cb-1afe93ab4c9b"
      },
      "execution_count": null,
      "outputs": [
        {
          "output_type": "stream",
          "name": "stdout",
          "text": [
            "30\n"
          ]
        }
      ]
    },
    {
      "cell_type": "markdown",
      "source": [
        "3. What statement creates a function?\n",
        "\n",
        "* To create a function we have to use \"def\" statement"
      ],
      "metadata": {
        "id": "An20Rrk7KtUG"
      }
    },
    {
      "cell_type": "code",
      "source": [
        "def myfunction():\n",
        "  return \"This is my first function\""
      ],
      "metadata": {
        "id": "cDQCbiT0O5dc"
      },
      "execution_count": null,
      "outputs": []
    },
    {
      "cell_type": "code",
      "source": [
        "myfunction()"
      ],
      "metadata": {
        "colab": {
          "base_uri": "https://localhost:8080/",
          "height": 35
        },
        "id": "fBBLlN8qPFHK",
        "outputId": "fabca772-3114-4aa4-eecb-dca3029d9f80"
      },
      "execution_count": null,
      "outputs": [
        {
          "output_type": "execute_result",
          "data": {
            "text/plain": [
              "'This is my first function'"
            ],
            "application/vnd.google.colaboratory.intrinsic+json": {
              "type": "string"
            }
          },
          "metadata": {},
          "execution_count": 8
        }
      ]
    },
    {
      "cell_type": "markdown",
      "source": [
        "4. What is the difference between a function and a function call?"
      ],
      "metadata": {
        "id": "mrFtDrMQKtZm"
      }
    },
    {
      "cell_type": "code",
      "source": [
        "a = 10\n",
        "B = 20\n",
        "\n",
        "#A function is a block of code that does a particular operation and returns a result. It usually accepts inputs as parameters and returns a result. The parameters are not mandatory.\n",
        "def add(a,b):\n",
        "  return a + b\n",
        "\n",
        "#A function call is the code used to pass control to a function.\n",
        "\n",
        "b = (a+B) #Now \"b\" will have the value 11."
      ],
      "metadata": {
        "id": "breHnY8dQLGj"
      },
      "execution_count": 23,
      "outputs": []
    },
    {
      "cell_type": "code",
      "source": [
        "print(f\"This is result of add function : {add(10,20)}\")\n",
        "\n",
        "print(f\"This is result of function call : {b}\")"
      ],
      "metadata": {
        "colab": {
          "base_uri": "https://localhost:8080/"
        },
        "id": "6XWoN5GlH8G-",
        "outputId": "4b259628-cb48-468c-994e-2eb78a8361b2"
      },
      "execution_count": 24,
      "outputs": [
        {
          "output_type": "stream",
          "name": "stdout",
          "text": [
            "This is result of add function : 30\n",
            "This is result of function call : 30\n"
          ]
        }
      ]
    },
    {
      "cell_type": "markdown",
      "source": [
        "5. How many global scopes are there in a Python program? How many local scopes?\n",
        "\n",
        "* - There is one global scope, and a local scope is created whenever a function is called.\n",
        "## In Python, there are four types of scopes :  \n",
        "\n",
        "* - Global Scope   \n",
        "* - Local Scope \n",
        "* - Enclosing Scope  \n",
        "* - Built-in Scope"
      ],
      "metadata": {
        "id": "GAnsXJ6iKtff"
      }
    },
    {
      "cell_type": "markdown",
      "source": [
        "6. What happens to variables in a local scope when the function call returns?\n",
        "\n",
        "* - Local variables are only recognized inside their functions, variables with the same name can be used in different functions. Local variables are created when a function starts, and destroyed when the function is completed."
      ],
      "metadata": {
        "id": "xlDvWZarKtoc"
      }
    },
    {
      "cell_type": "markdown",
      "source": [
        "7. What is the concept of a return value? Is it possible to have a return value in an expression?\n",
        "\n",
        "* - A return statement is used to end the execution of the function call and “returns” the result.The statements after the return statements are not executed.\n",
        "\n",
        "* - A Python function will always have a return value. Like any value, a return value can be used as part of an expression."
      ],
      "metadata": {
        "id": "J1NH6okIKtvb"
      }
    },
    {
      "cell_type": "code",
      "source": [
        "def test1():\n",
        "  return \"This is example of return value\""
      ],
      "metadata": {
        "id": "50jHhLCQ69NV"
      },
      "execution_count": 3,
      "outputs": []
    },
    {
      "cell_type": "code",
      "source": [
        "test1()"
      ],
      "metadata": {
        "colab": {
          "base_uri": "https://localhost:8080/",
          "height": 35
        },
        "id": "eVtBwNZC7IHj",
        "outputId": "3b885b32-e24c-4e9a-9436-91441f5bd3b1"
      },
      "execution_count": 4,
      "outputs": [
        {
          "output_type": "execute_result",
          "data": {
            "text/plain": [
              "'This is example of return value'"
            ],
            "application/vnd.google.colaboratory.intrinsic+json": {
              "type": "string"
            }
          },
          "metadata": {},
          "execution_count": 4
        }
      ]
    },
    {
      "cell_type": "markdown",
      "source": [
        "8. If a function does not have a return statement, what is the return value of a call to that function?\n",
        "\n",
        "* - if you don't explicitly use a return value in a return statement, or if you totally omit the return statement, then Python will implicitly return a default value for you. That default return value will always be None .\n",
        "\n",
        "* - If the function doesn't have any return statement, then it returns None ."
      ],
      "metadata": {
        "id": "Aj0AfwC0Kt1s"
      }
    },
    {
      "cell_type": "code",
      "source": [
        "def test2(*a): \n",
        "  l=[]\n",
        "  for i in a:\n",
        "    l.append(i)"
      ],
      "metadata": {
        "id": "zWsglsMJ8tgz"
      },
      "execution_count": 19,
      "outputs": []
    },
    {
      "cell_type": "code",
      "source": [
        "test2(10,20,30,50,70,80,90)# This will not give unless you write return function"
      ],
      "metadata": {
        "id": "nR6Vu67D8zDU"
      },
      "execution_count": 20,
      "outputs": []
    },
    {
      "cell_type": "code",
      "source": [
        "def test2(*a): \n",
        "  l=[]\n",
        "  for i in a:\n",
        "    l.append(i)\n",
        "  return l"
      ],
      "metadata": {
        "id": "eFmSyQO-7qsx"
      },
      "execution_count": 22,
      "outputs": []
    },
    {
      "cell_type": "code",
      "source": [
        "test2(10,20,30,50,70,80,90) "
      ],
      "metadata": {
        "colab": {
          "base_uri": "https://localhost:8080/"
        },
        "id": "11mXcfeb8Qqg",
        "outputId": "8337ba2e-daa1-496f-f69b-bd64cb120bc9"
      },
      "execution_count": 23,
      "outputs": [
        {
          "output_type": "execute_result",
          "data": {
            "text/plain": [
              "[10, 20, 30, 50, 70, 80, 90]"
            ]
          },
          "metadata": {},
          "execution_count": 23
        }
      ]
    },
    {
      "cell_type": "markdown",
      "source": [
        "9. How do you make a function variable refer to the global variable?\n",
        "\n",
        "* - Normally, when we create a variable inside a function, that variable is local, and can only be used inside that function.\n",
        "\n",
        "* - To create a global variable inside a function, you can use the global keyword."
      ],
      "metadata": {
        "id": "J13x6FJJKt71"
      }
    },
    {
      "cell_type": "code",
      "source": [
        "def test3():\n",
        "  global x\n",
        "  x = \"Akshay \"\n",
        "\n",
        "test3()\n",
        "\n",
        "print(\"My Name is \" + x)"
      ],
      "metadata": {
        "colab": {
          "base_uri": "https://localhost:8080/"
        },
        "id": "9jHxuobLOAih",
        "outputId": "68e22adf-19a9-4548-ce3d-03f075558b3d"
      },
      "execution_count": 26,
      "outputs": [
        {
          "output_type": "stream",
          "name": "stdout",
          "text": [
            "My Name is Akshay \n"
          ]
        }
      ]
    },
    {
      "cell_type": "markdown",
      "source": [
        "10. What is the data type of None?\n",
        "* - None is a data type of its own (NoneType)"
      ],
      "metadata": {
        "id": "aNM2hkbaKuB0"
      }
    },
    {
      "cell_type": "markdown",
      "source": [
        "11. What does the sentence import areallyourpetsnamederic do?\n",
        "\n",
        "* - That import statement imports a module named areallyourpetsnamederic."
      ],
      "metadata": {
        "id": "sWcME1coKuHz"
      }
    },
    {
      "cell_type": "markdown",
      "source": [
        "12. If you had a bacon() feature in a spam module, what would you call it after importing spam?\n",
        "\n",
        "It can be called spam.bacon()"
      ],
      "metadata": {
        "id": "Pk8XzDk0KuNS"
      }
    },
    {
      "cell_type": "markdown",
      "source": [
        "13. What can you do to save a programme from crashing if it encounters an error?\n",
        "\n",
        "* - we can use the try and except statements to handle exceptions. Whenever the code breaks down, an exception is thrown without crashing the program."
      ],
      "metadata": {
        "id": "fXQi0T7wLA6C"
      }
    },
    {
      "cell_type": "markdown",
      "source": [
        "14. What is the purpose of the try clause? What is the purpose of the \n",
        "except clause?\n",
        "* - The try block lets you test a block of code for errors.\n",
        "* - The except block lets you handle the error. The else block lets you execute code when there is no error.\n",
        "\n",
        "\n"
      ],
      "metadata": {
        "id": "ElVQ7bmSLA_j"
      }
    },
    {
      "cell_type": "markdown",
      "source": [
        "### Thank You \n",
        "###Happy Learning "
      ],
      "metadata": {
        "id": "JGh87qMQVrmU"
      }
    }
  ]
}