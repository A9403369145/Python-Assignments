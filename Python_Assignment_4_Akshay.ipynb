{
  "nbformat": 4,
  "nbformat_minor": 0,
  "metadata": {
    "colab": {
      "provenance": []
    },
    "kernelspec": {
      "name": "python3",
      "display_name": "Python 3"
    },
    "language_info": {
      "name": "python"
    }
  },
  "cells": [
    {
      "cell_type": "markdown",
      "source": [
        "# Python_Assignment_4\n",
        "## FSDS 2.0\n",
        " Submitted by Akshay Gaidhani"
      ],
      "metadata": {
        "id": "bWZYa2iiupuG"
      }
    },
    {
      "cell_type": "markdown",
      "source": [
        "1. What exactly is [ ] ?\n",
        "\n",
        "* - [ ] it is called square bracket/ Index brackets.\n",
        "* - In python we use this empty list value, which is a list value that contains no items.\n"
      ],
      "metadata": {
        "id": "_lMXJent4kqt"
      }
    },
    {
      "cell_type": "markdown",
      "source": [
        "2. In a list of values stored in a variable called spam, how would you assign the value 'hello' as the third value? (Assume [2, 4, 6, 8, 10] are in spam.)\n",
        "Let's pretend the spam includes the list ['a', 'b', 'c', 'd'] for the next three queries.\n"
      ],
      "metadata": {
        "id": "NJ10rm3H4orK"
      }
    },
    {
      "cell_type": "code",
      "source": [
        "spam = [2, 4, 6, 8, 10]\n",
        "\n",
        "spam[2]=\"hello\"\n",
        "\n",
        "print(spam)"
      ],
      "metadata": {
        "colab": {
          "base_uri": "https://localhost:8080/"
        },
        "id": "hMDORhVN6p3k",
        "outputId": "a09b5cba-ec07-4f5c-f659-f59b816b7638"
      },
      "execution_count": 13,
      "outputs": [
        {
          "output_type": "stream",
          "name": "stdout",
          "text": [
            "[2, 4, 'hello', 8, 10]\n"
          ]
        }
      ]
    },
    {
      "cell_type": "markdown",
      "source": [
        "\n",
        "3. What is the value of spam[int(int('3' * 2) / 11)]?\n"
      ],
      "metadata": {
        "id": "twrqVVAT4otj"
      }
    },
    {
      "cell_type": "code",
      "source": [
        "spam = ['a', 'b', 'c', 'd']\n",
        "spam[int(int('3' * 2) / 11)]"
      ],
      "metadata": {
        "colab": {
          "base_uri": "https://localhost:8080/",
          "height": 35
        },
        "id": "-oRQaUPf8itI",
        "outputId": "92666064-750a-4076-b6ab-4ce12c89ea4c"
      },
      "execution_count": 15,
      "outputs": [
        {
          "output_type": "execute_result",
          "data": {
            "text/plain": [
              "'d'"
            ],
            "application/vnd.google.colaboratory.intrinsic+json": {
              "type": "string"
            }
          },
          "metadata": {},
          "execution_count": 15
        }
      ]
    },
    {
      "cell_type": "markdown",
      "source": [
        "4. What is the value of spam[-1]?\n"
      ],
      "metadata": {
        "id": "rnaaFT0c4oz4"
      }
    },
    {
      "cell_type": "code",
      "source": [
        "spam = ['a', 'b', 'c', 'd']\n",
        "spam[-1]"
      ],
      "metadata": {
        "colab": {
          "base_uri": "https://localhost:8080/",
          "height": 35
        },
        "id": "Y-R03c-P9ypN",
        "outputId": "0c804d9b-ff38-41a4-f45e-3d20ac401c2c"
      },
      "execution_count": 17,
      "outputs": [
        {
          "output_type": "execute_result",
          "data": {
            "text/plain": [
              "'d'"
            ],
            "application/vnd.google.colaboratory.intrinsic+json": {
              "type": "string"
            }
          },
          "metadata": {},
          "execution_count": 17
        }
      ]
    },
    {
      "cell_type": "markdown",
      "source": [
        "5. What is the value of spam[:2]?\n",
        "Let's pretend bacon has the list [3.14, 'cat,' 11, 'cat,' True] for the next three questions."
      ],
      "metadata": {
        "id": "G49ZQjJ-4o2e"
      }
    },
    {
      "cell_type": "code",
      "source": [
        "spam = ['a', 'b', 'c', 'd']\n",
        "spam[:2]"
      ],
      "metadata": {
        "colab": {
          "base_uri": "https://localhost:8080/"
        },
        "id": "qWhS_FER-yVr",
        "outputId": "2cf76c39-677d-4f03-db59-4efaa33890a1"
      },
      "execution_count": 18,
      "outputs": [
        {
          "output_type": "execute_result",
          "data": {
            "text/plain": [
              "['a', 'b']"
            ]
          },
          "metadata": {},
          "execution_count": 18
        }
      ]
    },
    {
      "cell_type": "markdown",
      "source": [
        "6. What is the value of bacon.index('cat')?\n"
      ],
      "metadata": {
        "id": "H8UADUIx4o5A"
      }
    },
    {
      "cell_type": "code",
      "source": [
        "bacon = [3.14, 'cat', 11, 'cat', True] \n",
        "\n",
        "bacon.index(\"cat\") # mindex function only returns the first occurrence of the value."
      ],
      "metadata": {
        "colab": {
          "base_uri": "https://localhost:8080/"
        },
        "id": "JmQeYSyc-8zV",
        "outputId": "30c01947-51d8-4274-c4c3-14c56011b648"
      },
      "execution_count": 25,
      "outputs": [
        {
          "output_type": "execute_result",
          "data": {
            "text/plain": [
              "1"
            ]
          },
          "metadata": {},
          "execution_count": 25
        }
      ]
    },
    {
      "cell_type": "markdown",
      "source": [
        "7. How does bacon.append(99) change the look of the list value in bacon?"
      ],
      "metadata": {
        "id": "9thhgMHr4o7n"
      }
    },
    {
      "cell_type": "code",
      "source": [
        "bacon = [3.14, 'cat', 11, 'cat', True]\n",
        "bacon.append(99) # append function adds an element at the end of the list\n",
        "print(bacon)"
      ],
      "metadata": {
        "colab": {
          "base_uri": "https://localhost:8080/"
        },
        "id": "KtllqhRuBHaV",
        "outputId": "abd605b8-1be0-491f-c76e-01aba9cf3561"
      },
      "execution_count": 29,
      "outputs": [
        {
          "output_type": "stream",
          "name": "stdout",
          "text": [
            "[3.14, 'cat', 11, 'cat', True, 99]\n"
          ]
        }
      ]
    },
    {
      "cell_type": "markdown",
      "source": [
        "8. How does bacon.remove('cat') change the look of the list in bacon?"
      ],
      "metadata": {
        "id": "9wzZgZvP4o-b"
      }
    },
    {
      "cell_type": "code",
      "source": [
        "bacon.remove('cat')\n",
        "print(bacon)"
      ],
      "metadata": {
        "colab": {
          "base_uri": "https://localhost:8080/"
        },
        "id": "q89N9ov_BfFH",
        "outputId": "52a5404f-2a61-44b7-dcbc-0e1adb9cdb14"
      },
      "execution_count": 31,
      "outputs": [
        {
          "output_type": "stream",
          "name": "stdout",
          "text": [
            "[3.14, 11, True, 99]\n"
          ]
        }
      ]
    },
    {
      "cell_type": "markdown",
      "source": [
        "9. What are the list concatenation and list replication operators?"
      ],
      "metadata": {
        "id": "nu8DBAMe4pBM"
      }
    },
    {
      "cell_type": "code",
      "source": [
        "#list concatenation - \" + \" It appends one list at the end of the other list and results in a new list as output\n",
        "\n",
        "l = [1,3,2,89,21,21]\n",
        "m = [78,95,2,12,3,12]\n",
        "\n",
        "print(f\"This is result of list concatination: {l+m}\")\n",
        "\n",
        "# Replication operators - \" * \" Repeat each element in the list amount of times.\n",
        "\n",
        "print(f\"This is result of replication operator: {l*2}\")"
      ],
      "metadata": {
        "colab": {
          "base_uri": "https://localhost:8080/"
        },
        "id": "2LUKyO8mB2MP",
        "outputId": "5b60a350-01fe-49e0-c00d-268cd3df0e0b"
      },
      "execution_count": 51,
      "outputs": [
        {
          "output_type": "stream",
          "name": "stdout",
          "text": [
            "This is result of list concatination: [1, 3, 2, 89, 21, 21, 78, 95, 2, 12, 3, 12]\n",
            "This is result of replication operator: [1, 3, 2, 89, 21, 21, 1, 3, 2, 89, 21, 21]\n"
          ]
        }
      ]
    },
    {
      "cell_type": "markdown",
      "source": [
        "10. What is difference between the list methods append() and insert()?"
      ],
      "metadata": {
        "id": "T2ppkPIr4pES"
      }
    },
    {
      "cell_type": "code",
      "source": [
        "#append() - This function adds an element at the end of the list\n",
        "l = [1,3,2,89,21,21]\n",
        "l.append(\"Hello\")\n",
        "print(f\"This is result of append function: {l}\")\n",
        "\n",
        "#insert() - This function adds an specified value at the specified position of the list\n",
        "l = [1,3,2,89,21,21]\n",
        "l.insert(2,\"Hello\")\n",
        "print(f\"This is result of insert function: {l}\")"
      ],
      "metadata": {
        "colab": {
          "base_uri": "https://localhost:8080/"
        },
        "id": "PbAnkzScDYJw",
        "outputId": "5478dc1a-9e8f-4684-e9a6-726e76b7fa69"
      },
      "execution_count": 47,
      "outputs": [
        {
          "output_type": "stream",
          "name": "stdout",
          "text": [
            "This is result of append function: [1, 3, 2, 89, 21, 21, 'Hello']\n",
            "This is result of insert function: [1, 3, 'Hello', 2, 89, 21, 21]\n"
          ]
        }
      ]
    },
    {
      "cell_type": "markdown",
      "source": [
        "11. What are the two methods for removing items from a list?"
      ],
      "metadata": {
        "id": "JCeGF6b44pIt"
      }
    },
    {
      "cell_type": "code",
      "source": [
        "m = [78,95,2,12,3,12]\n",
        "m.pop() # .pop() - Removes last element of the list \n",
        "print(m)\n",
        "\n",
        "m = [78,95,2,12,3,12]\n",
        "m.remove(3) #.remove() - It removes the first occurence of specific element\n",
        "print(m)\n",
        "\n",
        "# .clear() -  it removes the all element in the list "
      ],
      "metadata": {
        "colab": {
          "base_uri": "https://localhost:8080/"
        },
        "id": "qzjjuE3hEs1P",
        "outputId": "1586c58e-1190-429e-a94f-464fba4bcbe0"
      },
      "execution_count": 52,
      "outputs": [
        {
          "output_type": "stream",
          "name": "stdout",
          "text": [
            "[78, 95, 2, 12, 3]\n",
            "[78, 95, 2, 12, 12]\n"
          ]
        }
      ]
    },
    {
      "cell_type": "markdown",
      "source": [
        "12. Describe how list values and string values are identical.\n",
        "\n",
        "* - lists and strings can be passed to len() \n",
        "* - have indexes and slices, be used in for loops\n",
        "* - be concatenated or replicated \n",
        "* - be used with the in and not in operators"
      ],
      "metadata": {
        "id": "HbnBOv0a4pKy"
      }
    },
    {
      "cell_type": "markdown",
      "source": [
        "13. What's the difference between tuples and lists?\n",
        "\n",
        "* - List are mutable but tupleas are immutable\n",
        "* - list uses [ ] while the tupleas uses ( )\n"
      ],
      "metadata": {
        "id": "G8n0sQCl5IbM"
      }
    },
    {
      "cell_type": "markdown",
      "source": [
        "14. How do you type a tuple value that only contains the integer 42?\n"
      ],
      "metadata": {
        "id": "f64NLbEc5Id4"
      }
    },
    {
      "cell_type": "code",
      "source": [
        "r = (42,)\n",
        "print(type(r))\n",
        "print(r)"
      ],
      "metadata": {
        "colab": {
          "base_uri": "https://localhost:8080/"
        },
        "id": "tffCQoT5HaaQ",
        "outputId": "de3daecc-ece1-4554-f38d-e6c47e404e0b"
      },
      "execution_count": 57,
      "outputs": [
        {
          "output_type": "stream",
          "name": "stdout",
          "text": [
            "<class 'tuple'>\n",
            "(42,)\n"
          ]
        }
      ]
    },
    {
      "cell_type": "markdown",
      "source": [
        "15. How do you get a list value's tuple form? How do you get a tuple value's list form?\n"
      ],
      "metadata": {
        "id": "ZEaeEMMW5Ig2"
      }
    },
    {
      "cell_type": "code",
      "source": [
        "l = [1,3,2,89,21,21]\n",
        "print(tuple(l)) # List to Tuple conversion \n",
        "\n",
        "t = (12,51,2125,\"Akshay\",\"Ram\") \n",
        "list(t) # Tupe to List conversion"
      ],
      "metadata": {
        "colab": {
          "base_uri": "https://localhost:8080/"
        },
        "id": "mcRxSLIeJZDo",
        "outputId": "019212fd-758d-467c-9937-07300c3998e5"
      },
      "execution_count": 72,
      "outputs": [
        {
          "output_type": "stream",
          "name": "stdout",
          "text": [
            "(1, 3, 2, 89, 21, 21)\n"
          ]
        },
        {
          "output_type": "execute_result",
          "data": {
            "text/plain": [
              "[12, 51, 2125, 'Akshay', 'Ram']"
            ]
          },
          "metadata": {},
          "execution_count": 72
        }
      ]
    },
    {
      "cell_type": "markdown",
      "source": [
        "16. Variables that \"contain\" list values are not necessarily lists themselves. Instead, what do they contain?\n",
        "\n",
        "* - They contain references to list values."
      ],
      "metadata": {
        "id": "X5QmjjE_5IkO"
      }
    },
    {
      "cell_type": "markdown",
      "source": [
        "17. How do you distinguish between copy.copy() and copy.deepcopy()?\n",
        "\n",
        "* - The copy.copy() function will do a shallow copy of a list \n",
        "* - copy.deepcopy() function will do a deep copy of a list. That is, only copy.deepcopy() will duplicate any lists inside the list."
      ],
      "metadata": {
        "id": "hB8zn2ox5InI"
      }
    },
    {
      "cell_type": "code",
      "source": [
        "l1 = [1,3,2,89,21,21]\n",
        "l2 = l1.copy()"
      ],
      "metadata": {
        "id": "QCF9XMxSL7Ze"
      },
      "execution_count": 90,
      "outputs": []
    },
    {
      "cell_type": "code",
      "source": [
        "l2[2]=\"Akshay\"\n",
        "\n",
        "print(l1,l2)"
      ],
      "metadata": {
        "colab": {
          "base_uri": "https://localhost:8080/"
        },
        "id": "x42tihdcOlR0",
        "outputId": "cac7d955-2ebb-471e-dc19-21e555b34555"
      },
      "execution_count": 91,
      "outputs": [
        {
          "output_type": "stream",
          "name": "stdout",
          "text": [
            "[1, 3, 2, 89, 21, 21] [1, 3, 'Akshay', 89, 21, 21]\n"
          ]
        }
      ]
    },
    {
      "cell_type": "code",
      "source": [
        "l1 = [[1,3,2,89,21,21],[12,351,295]]\n",
        "l2 = l1.copy()\n",
        "\n",
        "l2[1][2]=\"Gaidhani \""
      ],
      "metadata": {
        "id": "WImzu9xUO6Nb"
      },
      "execution_count": 86,
      "outputs": []
    },
    {
      "cell_type": "code",
      "source": [
        "l1,l2"
      ],
      "metadata": {
        "colab": {
          "base_uri": "https://localhost:8080/"
        },
        "id": "4-e8ep-dQJQl",
        "outputId": "cd5156a2-d05c-4fc1-c85e-bb2c7346c33a"
      },
      "execution_count": 87,
      "outputs": [
        {
          "output_type": "execute_result",
          "data": {
            "text/plain": [
              "([[1, 3, 2, 89, 21, 21], [12, 351, 'Gaidhani ']],\n",
              " [[1, 3, 2, 89, 21, 21], [12, 351, 'Gaidhani ']])"
            ]
          },
          "metadata": {},
          "execution_count": 87
        }
      ]
    },
    {
      "cell_type": "markdown",
      "source": [
        "## Thank You \n",
        "## Happy Learning"
      ],
      "metadata": {
        "id": "_UA5D0PVQ_Mv"
      }
    }
  ]
}