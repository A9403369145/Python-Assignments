{
  "nbformat": 4,
  "nbformat_minor": 0,
  "metadata": {
    "colab": {
      "provenance": []
    },
    "kernelspec": {
      "name": "python3",
      "display_name": "Python 3"
    },
    "language_info": {
      "name": "python"
    }
  },
  "cells": [
    {
      "cell_type": "markdown",
      "source": [
        "# Python_Assignment_7\n",
        "## FSDS 2.0\n",
        " Submitted by Akshay Gaidhani"
      ],
      "metadata": {
        "id": "sSlFwsyOowaN"
      }
    },
    {
      "cell_type": "code",
      "source": [
        "import re"
      ],
      "metadata": {
        "id": "vYKRPpNHjMXw"
      },
      "execution_count": 2,
      "outputs": []
    },
    {
      "cell_type": "markdown",
      "source": [
        "1. What is the name of the feature responsible for generating Regex objects?\n",
        "\n",
        "* - re.compile() returns Regex ojects\n"
      ],
      "metadata": {
        "id": "5g41U7TipOWC"
      }
    },
    {
      "cell_type": "markdown",
      "source": [
        "2. Why do raw strings often appear in Regex objects?\n",
        "* - Python raw string is created by prefixing a string literal with 'r' or 'R'. Python raw string treats backslash (\\) as a literal character. This is useful when we want to have a string that contains backslash and don't want it to be treated as an escape character"
      ],
      "metadata": {
        "id": "bwcejeQgpOez"
      }
    },
    {
      "cell_type": "markdown",
      "source": [
        "3. What is the return value of the search() method?\n",
        "\n",
        "* - search() method returns if there is a match anywhere in the string, else it returns none. "
      ],
      "metadata": {
        "id": "TiMRI-VupOnv"
      }
    },
    {
      "cell_type": "markdown",
      "source": [
        "4. From a Match item, how do you get the actual strings that match the pattern?\n",
        "\n",
        "* - The group() method returns strings of the matched text.\n"
      ],
      "metadata": {
        "id": "yVxgVA_mpOwn"
      }
    },
    {
      "cell_type": "code",
      "source": [
        "samples = \"\"\"akshaygaidhani5280@gmail.com\n",
        "payroll@domain.com\n",
        "hrqueries@domain.com\n",
        "employeecare@domain.com \"\"\"\n",
        "\n",
        "pattern = re.match(r'(\\w+)@(\\w+)\\.(\\w+)',samples)\n",
        "\n",
        "print(pattern.group(1,2,3))\n",
        "print(re.findall(r'(\\w+)@(\\w+)\\.(\\w+)',samples))"
      ],
      "metadata": {
        "colab": {
          "base_uri": "https://localhost:8080/"
        },
        "id": "txMMDkQNGHb6",
        "outputId": "a50fc79a-5ff5-4072-eb9b-0180211fa5f9"
      },
      "execution_count": null,
      "outputs": [
        {
          "output_type": "stream",
          "name": "stdout",
          "text": [
            "('akshaygaidhani5280', 'gmail', 'com')\n",
            "[('akshaygaidhani5280', 'gmail', 'com'), ('payroll', 'domain', 'com'), ('hrqueries', 'domain', 'com'), ('employeecare', 'domain', 'com')]\n"
          ]
        }
      ]
    },
    {
      "cell_type": "markdown",
      "source": [
        "5. In the regex which created from the r'(\\d\\d\\d)-(\\d\\d\\d-\\d\\d\\d\\d)', what does group zero cover? Group 2? Group 1?\n",
        "*   Group 0 - Coveres entire match\n",
        "*   Group 2 - Covers the second set of parentheses.\n",
        "*   Group 1 - Covers the first set of parentheses\n",
        "\n",
        "\n",
        "\n"
      ],
      "metadata": {
        "id": "f3xB-YeYpO4y"
      }
    },
    {
      "cell_type": "code",
      "source": [
        "expl = \"\"\"123-456-7899\n",
        "536-792-6169\n",
        "896-858-6606\"\"\"\n",
        "\n",
        "pattern = re.match(r'(\\d\\d\\d)-(\\d\\d\\d-\\d\\d\\d\\d)',expl)\n",
        "pattern2 = re.match(r'(\\d{3})-(\\d{3}-\\d{4})',expl)\n",
        "\n",
        "print(pattern.group(0,1,2)) # Grouping\n",
        "\n",
        "re.findall(r'(\\d{3})-(\\d{3}-\\d{4})',expl)"
      ],
      "metadata": {
        "colab": {
          "base_uri": "https://localhost:8080/"
        },
        "id": "NMmUfrE1WCaj",
        "outputId": "dfea6c11-d40a-430f-bc64-c8fc5f781d4d"
      },
      "execution_count": null,
      "outputs": [
        {
          "output_type": "stream",
          "name": "stdout",
          "text": [
            "('123-456-7899', '123', '456-7899')\n"
          ]
        },
        {
          "output_type": "execute_result",
          "data": {
            "text/plain": [
              "[('123', '456-7899'), ('536', '792-6169'), ('896', '858-6606')]"
            ]
          },
          "metadata": {},
          "execution_count": 16
        }
      ]
    },
    {
      "cell_type": "markdown",
      "source": [
        "6. In standard expression syntax, parentheses and intervals have distinct meanings. How can you tell a regex that you want it to fit real parentheses and periods?\n",
        "\n",
        "* - Periods and parentheses can be escaped with a backslash: `\\`., `\\`(, and `\\`)"
      ],
      "metadata": {
        "id": "-Rk4NQxopPBU"
      }
    },
    {
      "cell_type": "markdown",
      "source": [
        "7. The findall() method returns a string list or a list of string tuples. What causes it to return one of the two options?\n",
        "\n",
        "* - If the regex has no groups, a list of strings is returned. If the regex has groups, a list of tuples of strings is returned."
      ],
      "metadata": {
        "id": "W7LMmh78pPJw"
      }
    },
    {
      "cell_type": "code",
      "source": [
        "expl = \"\"\"123-456-7899\n",
        "536-792-6169\n",
        "896-858-6606\"\"\"\n",
        "\n",
        "pattern = re.match(r'(\\d\\d\\d)-(\\d\\d\\d-\\d\\d\\d\\d)',expl) # With Grouping it will give Tuple output \n",
        "pattern2 = re.match(r'\\d{3}-\\d{3}-\\d{4}',expl) # W ithout grouping it will give List as output\n",
        "\n",
        "print(pattern.group(0,1,2)) \n",
        "re.findall(r'\\d{3}-\\d{3}-\\d{4}',expl)"
      ],
      "metadata": {
        "colab": {
          "base_uri": "https://localhost:8080/"
        },
        "id": "WMv5J0KFapjf",
        "outputId": "1aacbefa-1252-4edb-c74d-ff2934685698"
      },
      "execution_count": 4,
      "outputs": [
        {
          "output_type": "stream",
          "name": "stdout",
          "text": [
            "('123-456-7899', '123', '456-7899')\n"
          ]
        },
        {
          "output_type": "execute_result",
          "data": {
            "text/plain": [
              "['123-456-7899', '536-792-6169', '896-858-6606']"
            ]
          },
          "metadata": {},
          "execution_count": 4
        }
      ]
    },
    {
      "cell_type": "markdown",
      "source": [
        "8. In standard expressions, what does the | character mean?\n",
        "\n",
        "* - | means Matches either what is before the | or what is after it - in this case `a` or `b`.\n",
        "\n"
      ],
      "metadata": {
        "id": "9gz0KIeMpPXc"
      }
    },
    {
      "cell_type": "markdown",
      "source": [
        "9. In regular expressions, what does the character stand for?\n",
        "\n",
        "* - The ? character can either mean \"match zero or one of the preceding group\" or be used to signify nongreedy matching.\n"
      ],
      "metadata": {
        "id": "ReOppSWdpPfE"
      }
    },
    {
      "cell_type": "markdown",
      "source": [
        "10. In regular expressions, what is the difference between the + and * characters?\n",
        "\n",
        "*   `a+` - Matches one or more consecutive `a` characters.\n",
        "*   `a*` - Matches zero or more consecutive `a` characters.\n",
        "\n"
      ],
      "metadata": {
        "id": "Sd3A0pFDpQAo"
      }
    },
    {
      "cell_type": "markdown",
      "source": [
        "11. What is the difference between {4} and {4,5} in regular expression?\n",
        "\n",
        "\n",
        "\n",
        "*  `a{4}` - Matches exactly 4 consecutive `a` characters.\n",
        "*  `a{4,5}` - Matches between 4 and 5 consecutive `a` characters.\n",
        "\n"
      ],
      "metadata": {
        "id": "ErUC8st2ptnu"
      }
    },
    {
      "cell_type": "markdown",
      "source": [
        "12. What do you mean by the \\d, \\w, and \\s shorthand character classes signify in regular expressions?\n",
        "\n",
        "*  `\\d` - Matches any decimal digit. Equivalent to [0-9].\n",
        "*  `\\w` - Matches any letter, digit or underscore. Equivalent to [a-zA-Z0-9_].\n",
        "*  `\\s` - Matches any space, tab or newline character.\n",
        "\n"
      ],
      "metadata": {
        "id": "WaNKqYw8pttH"
      }
    },
    {
      "cell_type": "markdown",
      "source": [
        "13. What do means by \\D, \\W, and \\S shorthand character classes signify in regular expressions?\n",
        "\n",
        "*  `\\D` - Matches anything other than a decimal/digit.\n",
        "*  `\\W` - Matches anything other than a letter, digit or underscore. Equivalent to [^a-zA-Z0-9_]\n",
        "*  `\\S` - Matches anything other than a space, tab or newline.\n",
        "/\\S+/"
      ],
      "metadata": {
        "id": "5D48XYgRptyH"
      }
    },
    {
      "cell_type": "markdown",
      "source": [
        "14. What is the difference between .*? and .*?\n",
        "\n",
        "* `A.*Z` The performs a greedy match,\n",
        "* `A.*?Z` the performs a nongreedy match."
      ],
      "metadata": {
        "id": "smguYZIMpt3Z"
      }
    },
    {
      "cell_type": "markdown",
      "source": [
        "15. What is the syntax for matching both numbers and lowercase letters with a character class?\n",
        "\n",
        "*  [0-9a-z] or [a-z0-9]"
      ],
      "metadata": {
        "id": "aegi8-Fwpt93"
      }
    },
    {
      "cell_type": "markdown",
      "source": [
        "16. What is the procedure for making a normal expression in regax case insensitive?\n",
        "*  re.IGNORECASE : This flag allows for case-insensitive matching of the Regular Expression with the given string\n",
        "*   RegexObject = re.compile( Regular expression, flag )\n",
        "\n"
      ],
      "metadata": {
        "id": "XguxwHC3qDGM"
      }
    },
    {
      "cell_type": "code",
      "source": [
        "sample = \"AKSHAY\"\n",
        "\n",
        "Pattern = \"[a-z]\"\n",
        "\n",
        "print(re.search(r'[a-z]',sample,re.IGNORECASE))"
      ],
      "metadata": {
        "colab": {
          "base_uri": "https://localhost:8080/"
        },
        "id": "-aHeNj_98X5Z",
        "outputId": "59213cdc-ddf2-44a3-85d4-b37542a2e450"
      },
      "execution_count": 13,
      "outputs": [
        {
          "output_type": "stream",
          "name": "stdout",
          "text": [
            "<re.Match object; span=(0, 1), match='A'>\n"
          ]
        }
      ]
    },
    {
      "cell_type": "markdown",
      "source": [
        "17. What does the . character normally match? What does it match if re.DOTALL is passed as 2nd argument in re.compile()?\n",
        "\n",
        "* `.` Character maches any character other than newline\n",
        "* By using re.DOTALL we can modify the behavior of dot (.) character to match the newline character apart from other characters."
      ],
      "metadata": {
        "id": "PqT14xuZqDN-"
      }
    },
    {
      "cell_type": "code",
      "source": [
        "code = \"\"\"Hello \n",
        "akshay\"\"\"\n",
        "\n",
        "code_match = r'.+'\n",
        "\n",
        "print(re.search(r'.+',code))\n",
        "print(re.search(r'.+',code,re.DOTALL))"
      ],
      "metadata": {
        "colab": {
          "base_uri": "https://localhost:8080/"
        },
        "id": "q_g2esmS5f6A",
        "outputId": "39750357-b5b4-4c82-d734-bb9381cdbbb1"
      },
      "execution_count": 48,
      "outputs": [
        {
          "output_type": "stream",
          "name": "stdout",
          "text": [
            "<re.Match object; span=(0, 6), match='Hello '>\n",
            "<re.Match object; span=(0, 13), match='Hello \\nakshay'>\n"
          ]
        }
      ]
    },
    {
      "cell_type": "markdown",
      "source": [
        "18. If numReg = re.compile(r'\\d+'), what will numRegex.sub('X', '11 drummers, 10 pipers, five rings, 4 hen') return?\n"
      ],
      "metadata": {
        "id": "kqXRRjkKqDUy"
      }
    },
    {
      "cell_type": "code",
      "source": [
        "exmple = \"'11 drummers, 10 pipers, five rings, 4 hen\"\n",
        "\n",
        "re.sub(r'\\d+',\"X\",exmple)"
      ],
      "metadata": {
        "colab": {
          "base_uri": "https://localhost:8080/",
          "height": 35
        },
        "id": "qkx4MDeBED_y",
        "outputId": "9c4b8b8d-0859-49c9-c9b7-1c4162ed701e"
      },
      "execution_count": 57,
      "outputs": [
        {
          "output_type": "execute_result",
          "data": {
            "text/plain": [
              "\"'X drummers, X pipers, five rings, X hen\""
            ],
            "application/vnd.google.colaboratory.intrinsic+json": {
              "type": "string"
            }
          },
          "metadata": {},
          "execution_count": 57
        }
      ]
    },
    {
      "cell_type": "markdown",
      "source": [
        "19. What does passing re.VERBOSE as the 2nd argument to re.compile() allow to do?\n",
        "* It allows representing a regular expression in a more readable way. allow to add whitespace and comments to the string passed to re.compile()."
      ],
      "metadata": {
        "id": "CxAu6eh8qDbs"
      }
    },
    {
      "cell_type": "code",
      "source": [
        "import re\n",
        "\n",
        "txt = '12-345'\n",
        "match = re.search(r\"\"\"(?P<first_two>[\\d]{2}) # The first two digits\n",
        "\t\t-\t\t\t\t\t\t # A literal python\n",
        "\t\t(?P<last_three>[\\d]{3})\t # The last three digit\n",
        "\t\t\"\"\", txt, re.VERBOSE)\n",
        "print(match)"
      ],
      "metadata": {
        "colab": {
          "base_uri": "https://localhost:8080/"
        },
        "id": "DbZbhNYILtd8",
        "outputId": "fabc8672-8fba-4219-f53b-a6b9aa330448"
      },
      "execution_count": 69,
      "outputs": [
        {
          "output_type": "stream",
          "name": "stdout",
          "text": [
            "<re.Match object; span=(0, 6), match='12-345'>\n"
          ]
        }
      ]
    },
    {
      "cell_type": "markdown",
      "source": [
        "20. How would you write a regex that match a number with comma for every three digits? It must match the given following:\n",
        "\n",
        "* '42'\n",
        "* '1,234'\n",
        "* '6,368,745'\n",
        "* -  but not the following:\n",
        "* '12,34,567' (which has only two digits between the commas)\n",
        "* '1234' (which lacks commas)"
      ],
      "metadata": {
        "id": "725EryT0qDmQ"
      }
    },
    {
      "cell_type": "code",
      "source": [
        "sample = \"22,333\"\n",
        "\n",
        "sample_match = re.match(r'(^\\d{1,3}(,\\d{3})*$)',sample)\n",
        "\n",
        "print(sample_match.group(0,1,2))"
      ],
      "metadata": {
        "colab": {
          "base_uri": "https://localhost:8080/"
        },
        "id": "y0IkzsdMehCE",
        "outputId": "492c8a03-c6a8-4b05-e0ab-f99028f297db"
      },
      "execution_count": 13,
      "outputs": [
        {
          "output_type": "stream",
          "name": "stdout",
          "text": [
            "('22,333', '22,333', ',333')\n"
          ]
        }
      ]
    },
    {
      "cell_type": "markdown",
      "source": [
        "21. How would you write a regex that matches the full name of someone whose last name is Watanabe? You can assume that the first name that comes before it will always be one word that begins with a capital letter. The regex must match the following:\n",
        "\n",
        "* 'Haruto Watanabe'\n",
        "* 'Alice Watanabe'\n",
        "* 'RoboCop Watanabe'\n",
        "* - but not the following:\n",
        "* 'haruto Watanabe' (where the first name is not capitalized)\n",
        "* 'Mr. Watanabe' (where the preceding word has a nonletter character)\n",
        "* 'Watanabe' (which has no first name)\n",
        "* 'Haruto watanabe' (where Watanabe is not capitalized)\n"
      ],
      "metadata": {
        "id": "vzAmc0OIgE8D"
      }
    },
    {
      "cell_type": "code",
      "source": [
        "Sample = 'Haruto Watanabe'\n",
        "\n",
        "sam_match = r'[A-Z][a-z]*\\sWatanabe'\n",
        "\n",
        "print(re.match(r'[A-Z][a-z]*\\sWatanabe',Sample))\n",
        "\n",
        "re.findall(r'[A-Z][a-z]*\\sWatanabe',Sample)"
      ],
      "metadata": {
        "colab": {
          "base_uri": "https://localhost:8080/"
        },
        "id": "-CtGQzZGfnfz",
        "outputId": "d8d5ec67-872c-47f2-9493-38dfc54b4d86"
      },
      "execution_count": 20,
      "outputs": [
        {
          "output_type": "stream",
          "name": "stdout",
          "text": [
            "<re.Match object; span=(0, 15), match='Haruto Watanabe'>\n"
          ]
        },
        {
          "output_type": "execute_result",
          "data": {
            "text/plain": [
              "['Haruto Watanabe']"
            ]
          },
          "metadata": {},
          "execution_count": 20
        }
      ]
    },
    {
      "cell_type": "markdown",
      "source": [
        "22. How would you write a regex that matches a sentence where the first word is either Alice, Bob, or Carol; the second word is either eats, pets, or throws; the third word is apples, cats, or baseballs; and the sentence ends with a period? This regex should be case-insensitive. It must match the following:\n",
        "\n",
        "* 'Alice eats apples.'\n",
        "* 'Bob pets cats.'\n",
        "* 'Carol throws baseballs.'\n",
        "* 'Alice throws Apples.'\n",
        "* 'BOB EATS CATS.'\n",
        "* - but not the following:\n",
        "* 'RoboCop eats apples.'\n",
        "* 'ALICE THROWS FOOTBALLS.'\n",
        "* 'Carol eats 7 cats.'\n"
      ],
      "metadata": {
        "id": "7ro5ujVUpMpk"
      }
    },
    {
      "cell_type": "code",
      "source": [
        "Samples5 = \"\"\"'Alice eats apples.'\n",
        "'Bob pets cats.'\n",
        "'Carol throws baseballs.'\n",
        "'Alice throws Apples.'\n",
        "'BOB EATS CATS.'\n",
        "but not the following:\n",
        "'RoboCop eats apples.'\"\"\"\n",
        "\n",
        "pattern = r'(Alice|Bob|Carol)\\s(eats|pets|throws)\\s(apples|cats|baseballs)\\.'\n",
        "\n",
        "re.findall(pattern,Samples5)"
      ],
      "metadata": {
        "colab": {
          "base_uri": "https://localhost:8080/"
        },
        "id": "gtloCR61oecF",
        "outputId": "d8b6e780-8a99-48e5-dca9-0bd067fb5911"
      },
      "execution_count": 22,
      "outputs": [
        {
          "output_type": "execute_result",
          "data": {
            "text/plain": [
              "[('Alice', 'eats', 'apples'),\n",
              " ('Bob', 'pets', 'cats'),\n",
              " ('Carol', 'throws', 'baseballs')]"
            ]
          },
          "metadata": {},
          "execution_count": 22
        }
      ]
    },
    {
      "cell_type": "markdown",
      "source": [
        "### Thank You \n",
        "### Happy Learning "
      ],
      "metadata": {
        "id": "fsSY0x28seYH"
      }
    }
  ]
}