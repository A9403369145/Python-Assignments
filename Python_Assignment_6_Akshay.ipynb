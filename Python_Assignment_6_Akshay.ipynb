{
  "nbformat": 4,
  "nbformat_minor": 0,
  "metadata": {
    "colab": {
      "provenance": []
    },
    "kernelspec": {
      "name": "python3",
      "display_name": "Python 3"
    },
    "language_info": {
      "name": "python"
    }
  },
  "cells": [
    {
      "cell_type": "markdown",
      "source": [
        "# Python_Assignment_6\n",
        "## FSDS 2.0\n",
        " Submitted by Akshay Gaidhani"
      ],
      "metadata": {
        "id": "uS7SBR9fM9LX"
      }
    },
    {
      "cell_type": "markdown",
      "source": [
        "1. What are escape characters, and how do you use them?\n",
        "\n",
        "* - Escape characters represent characters in string values that would otherwise be difficult or impossible to type into code.\n",
        "* - To insert characters that are illegal in a string, use an escape character.\n",
        "* - An escape character is a backslash \\ followed by the character you want to insert."
      ],
      "metadata": {
        "id": "imhhJ9v5Nikf"
      }
    },
    {
      "cell_type": "code",
      "source": [
        "Exmple = \"Hello nurons this is \\\"Akshay\\\" Gaidhani\"\n",
        "print(Exmple)"
      ],
      "metadata": {
        "colab": {
          "base_uri": "https://localhost:8080/"
        },
        "id": "a_yNKzcKY3sQ",
        "outputId": "f841df40-6662-44bf-bec1-cd300434ca93"
      },
      "execution_count": 30,
      "outputs": [
        {
          "output_type": "stream",
          "name": "stdout",
          "text": [
            "Hello nurons this is \"Akshay\" Gaidhani\n"
          ]
        }
      ]
    },
    {
      "cell_type": "markdown",
      "source": [
        "2. What do the escape characters n and t stand for?\n",
        "* - \\n used for New line\n",
        "* - \\t used for Tab"
      ],
      "metadata": {
        "id": "nCnEs4wFNinq"
      }
    },
    {
      "cell_type": "code",
      "source": [
        "Exmple = \"Hello nurons my name is \\nAkshay Gaidhani\" #\\n Example\n",
        "print(Exmple)"
      ],
      "metadata": {
        "colab": {
          "base_uri": "https://localhost:8080/"
        },
        "id": "GCjPWlwbarvV",
        "outputId": "75cf33fb-5174-4ed6-8336-1e40106a1191"
      },
      "execution_count": 34,
      "outputs": [
        {
          "output_type": "stream",
          "name": "stdout",
          "text": [
            "Hello nurons my name is \n",
            "Akshay Gaidhani\n"
          ]
        }
      ]
    },
    {
      "cell_type": "code",
      "source": [
        "Exmple = \"Hello nurons my name is \\tAkshay Gaidhani\" #\\t Example\n",
        "print(Exmple)"
      ],
      "metadata": {
        "colab": {
          "base_uri": "https://localhost:8080/"
        },
        "id": "EBgTMpXjbCRl",
        "outputId": "91183c1e-514e-429d-b529-6fc8a340a0a6"
      },
      "execution_count": 36,
      "outputs": [
        {
          "output_type": "stream",
          "name": "stdout",
          "text": [
            "Hello nurons my name is \tAkshay Gaidhani\n"
          ]
        }
      ]
    },
    {
      "cell_type": "markdown",
      "source": [
        "3. What is the way to include backslash characters in a string?\n",
        "\n",
        "* - The \\\\\\ escape character will represent a backslash character."
      ],
      "metadata": {
        "id": "axDIKETHNirZ"
      }
    },
    {
      "cell_type": "markdown",
      "source": [
        "4. The string \"Howl's Moving Castle\" is a correct value. Why isn't the single quote character in the word Howl's not escaped a problem?\n",
        "* - The single quote in Howl's is fine because we've used double quotes to mark the beginning and end of the string."
      ],
      "metadata": {
        "id": "-ZzAa7NeNiuu"
      }
    },
    {
      "cell_type": "code",
      "source": [
        "l = \"Howl's Moving Castle\" \n",
        "print(l)"
      ],
      "metadata": {
        "colab": {
          "base_uri": "https://localhost:8080/"
        },
        "id": "c0qJPXMldpW3",
        "outputId": "018b7038-62c4-4d91-c068-211022afdbfd"
      },
      "execution_count": 41,
      "outputs": [
        {
          "output_type": "stream",
          "name": "stdout",
          "text": [
            "Howl's Moving Castle\n"
          ]
        }
      ]
    },
    {
      "cell_type": "markdown",
      "source": [
        "5. How do you write a string of newlines if you don't want to use the n character?"
      ],
      "metadata": {
        "id": "jdlrB64DNiye"
      }
    },
    {
      "cell_type": "code",
      "source": [
        "# We can use multiline string \n",
        "x = \"\"\"  \n",
        "Hi Team \n",
        "This is \"Akshay\" \n",
        "data aspirant at ineuron\n",
        "\"\"\"\n",
        "print(x)"
      ],
      "metadata": {
        "colab": {
          "base_uri": "https://localhost:8080/"
        },
        "id": "Lo8QIIUNfRWG",
        "outputId": "838d55f8-2ade-4007-bc86-dd5b0ec4ede1"
      },
      "execution_count": 69,
      "outputs": [
        {
          "output_type": "stream",
          "name": "stdout",
          "text": [
            "  \n",
            "Hi Team \n",
            "This is \"Akshay\" \n",
            "data aspirant at ineuron\n",
            "\n"
          ]
        }
      ]
    },
    {
      "cell_type": "markdown",
      "source": [
        "6. What are the values of the given expressions?\n",
        "'Hello, world!'[1]\n",
        "'Hello, world!'[0:5]\n",
        "'Hello, world!'[:5]\n",
        "'Hello, world!'[3:]\n"
      ],
      "metadata": {
        "id": "OdIkA5OhNi09"
      }
    },
    {
      "cell_type": "code",
      "source": [
        "a = 'Hello, world!'\n",
        "print(a[1])\n",
        "print(a[0:5])\n",
        "print(a[:5])\n",
        "print(a[3:])"
      ],
      "metadata": {
        "colab": {
          "base_uri": "https://localhost:8080/"
        },
        "id": "HN8-Byn9Nx9x",
        "outputId": "8992b2f3-c2a1-44d2-afd7-b1e0c5cdbc75"
      },
      "execution_count": null,
      "outputs": [
        {
          "output_type": "stream",
          "name": "stdout",
          "text": [
            "e\n",
            "Hello\n",
            "Hello\n",
            "lo, world!\n"
          ]
        }
      ]
    },
    {
      "cell_type": "markdown",
      "source": [
        "7. What are the values of the following expressions?\n",
        "\n"
      ],
      "metadata": {
        "id": "h21lNGCXOgU6"
      }
    },
    {
      "cell_type": "code",
      "source": [
        "b = 'Hello'\n",
        "print(b.upper())\n",
        "print(b.upper().isupper())\n",
        "print(b.upper().lower())"
      ],
      "metadata": {
        "colab": {
          "base_uri": "https://localhost:8080/"
        },
        "id": "iSVpnZlEN0ys",
        "outputId": "0dd20f57-d7a8-45ad-e545-87c7a622e8af"
      },
      "execution_count": null,
      "outputs": [
        {
          "output_type": "stream",
          "name": "stdout",
          "text": [
            "HELLO\n",
            "True\n",
            "hello\n"
          ]
        }
      ]
    },
    {
      "cell_type": "markdown",
      "source": [
        "8. What are the values of the following expressions?\n",
        "\n"
      ],
      "metadata": {
        "id": "ndTv6oMGPBuP"
      }
    },
    {
      "cell_type": "code",
      "source": [
        "'-'.join('There can only one.'.split())"
      ],
      "metadata": {
        "colab": {
          "base_uri": "https://localhost:8080/",
          "height": 35
        },
        "id": "LyxIgUEFOjwD",
        "outputId": "5d8768af-1204-4855-86a0-3e45791c8eb7"
      },
      "execution_count": 9,
      "outputs": [
        {
          "output_type": "execute_result",
          "data": {
            "text/plain": [
              "'There-can-only-one.'"
            ],
            "application/vnd.google.colaboratory.intrinsic+json": {
              "type": "string"
            }
          },
          "metadata": {},
          "execution_count": 9
        }
      ]
    },
    {
      "cell_type": "code",
      "source": [
        "'Remember, remember, the fifth of July.'.split()"
      ],
      "metadata": {
        "colab": {
          "base_uri": "https://localhost:8080/"
        },
        "id": "546fPQ2FPEcD",
        "outputId": "d633e344-bacc-484f-ef54-9ca30f22637f"
      },
      "execution_count": 10,
      "outputs": [
        {
          "output_type": "execute_result",
          "data": {
            "text/plain": [
              "['Remember,', 'remember,', 'the', 'fifth', 'of', 'July.']"
            ]
          },
          "metadata": {},
          "execution_count": 10
        }
      ]
    },
    {
      "cell_type": "markdown",
      "source": [
        "9. What are the methods for right-justifying, left-justifying, and centering a string?\n",
        "\n",
        "*   rjust()\n",
        "*   ljust()\n",
        "*   center()\n",
        "\n"
      ],
      "metadata": {
        "id": "J5uuLu2XVLwR"
      }
    },
    {
      "cell_type": "code",
      "source": [
        "g = \"Akshay\"\n",
        "print(f\"This is a result of right justifying: {g.rjust(10)}\")\n",
        "print(f\"This is a result of left justifying: {g.ljust(10)}\")\n",
        "print(f\"This is a result of centering:{g.center(10)}\")"
      ],
      "metadata": {
        "colab": {
          "base_uri": "https://localhost:8080/"
        },
        "id": "1kPB-Wc_gQYR",
        "outputId": "4002097d-17ec-4a78-d558-dbad268b20e8"
      },
      "execution_count": 65,
      "outputs": [
        {
          "output_type": "stream",
          "name": "stdout",
          "text": [
            "This is a result of right justifying:     Akshay\n",
            "This is a result of left justifying: Akshay    \n",
            "This is a result of centering:  Akshay  \n"
          ]
        }
      ]
    },
    {
      "cell_type": "markdown",
      "source": [
        "10. What is the best way to remove whitespace characters from the start or end?"
      ],
      "metadata": {
        "id": "jkZqnbm_VN70"
      }
    },
    {
      "cell_type": "code",
      "source": [
        "o = \" Akshay Gaidhani \"\n",
        "\n",
        "print(o.lstrip())\n",
        "print(o.rstrip())"
      ],
      "metadata": {
        "colab": {
          "base_uri": "https://localhost:8080/"
        },
        "id": "S6YDxg7FVPkM",
        "outputId": "a9a17fa8-149e-44fd-b16f-a64744ef79d8"
      },
      "execution_count": 68,
      "outputs": [
        {
          "output_type": "stream",
          "name": "stdout",
          "text": [
            "Akshay Gaidhani \n",
            " Akshay Gaidhani\n"
          ]
        }
      ]
    },
    {
      "cell_type": "markdown",
      "source": [
        "## Thank You \n",
        "## Happy learning"
      ],
      "metadata": {
        "id": "omBUKheVmmGC"
      }
    }
  ]
}